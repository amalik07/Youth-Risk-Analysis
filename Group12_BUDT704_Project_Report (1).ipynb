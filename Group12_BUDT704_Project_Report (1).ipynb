{
 "cells": [
  {
   "cell_type": "markdown",
   "metadata": {
    "id": "qEAGMIeBBNwH"
   },
   "source": [
    "# PROJECT REPORT"
   ]
  },
  {
   "cell_type": "markdown",
   "metadata": {
    "id": "-rJ7o1zmCG0b"
   },
   "source": [
    "## Introduction"
   ]
  },
  {
   "cell_type": "markdown",
   "metadata": {
    "id": "LYVKTlUAGpVZ"
   },
   "source": [
    "Risky behaviors are acts that increase the risk of disease or injury, which could eventually threaten health or even life. Especially, potentially risky behaviors that youths engage in will impact their well-being and life prospects (Gruber, 2001). Activities such as smoking, consuming alcohol, having sex, and taking drugs will cause consequences for the remainder of their lives. Therefore, our group would like to gain a better understanding of youth risk behavior patterns and draw insights that can help teenagers create lifelong healthy behaviors. Our project builds a surveillance system that analyzes three categories of health risk behavior among the youth: \n",
    "\n",
    "* Alcoholism and drug abuse \n",
    "* Unhealthy Sexual Behavior\n",
    "* Tobacco Usage\n",
    "\n",
    "We obtained a data set, which contains 2,740,200 rows and 35 columns of observations, from Kaggle. It is about a Youth Risk Behavior Surveillance System (YRBSS) that conducts surveys to collect information from high school students in terms of adverse health behaviors in over 100 schools in the United States. The survey data ranges from 1991 to 2017 and associates a risk percentage to specific health-related issues over various demographic categories such as race, grade, sex, and location. \n",
    "\n",
    "Based on the data set, we come up with some meaningful questions and would like to explore more: \n",
    "\n",
    "* **Is there an increase in tobacco, alcohol, and other drug use among youth over the years in different regions and states of the United States of America?** <br>\n",
    "(We aim to determine if drug use behaviors including consuming alcohol, marijuana, heroin, or ecstasy increased over years in different states across the US. We look for the change of trend in drug use behaviors and how it differs in terms of the type of drug, years, and states.)\n",
    "\n",
    "* **Which student demographics are susceptible to different substance abuse and sexual behaviors?**<br>\n",
    "(We want to check if there is any relationship between different demographics and risky behaviors. We would like to see how sex, grade, race, and location may influence the youth's tendency to engage in drug use and sexual behaviors. )\n",
    "\n",
    "* **Does excessive alcohol/drug abuse lead to higher chances of sexually transmitted diseases among high school students?**<br>\n",
    "(We plan to determine whether the alcohol or drug use behavior will cause a higher likelihood of engaging in sexual behaviors which may further increase sexually transmitted diseases among youth. We try to determine whether there is a relationship between those risky behaviors and if yes what type of correlation coefficient exists.)\n",
    "\n",
    "\n",
    "* **How does the risky behavior among youth in different grades change over the years? Is there any significant pattern in risky behavior over the years for high school girls and boys?**<br>\n",
    "(We intend to determine the trend of engaging in risky behaviors in different high school grades in recent two decades. Also, we would like to check if teens in different genders show different risky behavior patterns.)\n",
    "\n",
    "By analyzing the dataset, we will be able to find some helpful relationships between behaviors and experiences among high school students and figure out the change patterns of risky behaviors over time and place. Based on that, we can provide some insights and suggestions on how to enhance the current law enforcement and improve legal regulations to prevent high school students from engaging in risky behaviors. Furthermore, our system will prove beneficial for giving guidance to various non-profit organizations on helping and protecting at-risk young adults and teenagers in the United States. "
   ]
  },
  {
   "cell_type": "markdown",
   "metadata": {},
   "source": [
    "## Choice for Heavier Grading on Data Processing"
   ]
  },
  {
   "cell_type": "markdown",
   "metadata": {},
   "source": [
    "Our group make the decision that our project should be graded more heavily on data processing. The reason why we believe the work we did goes above and beyond the basic data processing needed for most data sets is that our data set has three topics in separate sheets and we have made a great effort to clean and process each sheet before merging them into one.  We spent time understanding this huge data set before we drop any irrelevant information. Then we conducted the tasks such as recording, reindexing and changing data types to further process the data in each sheet. "
   ]
  },
  {
   "cell_type": "markdown",
   "metadata": {},
   "source": [
    "## Data Processing"
   ]
  },
  {
   "cell_type": "markdown",
   "metadata": {},
   "source": [
    "Since our data set is under the main theme of youth risky behaviors, even though each sheet has its subtopics such as tobaccos use, sexual behavior, alcohol, and drug use, the format and columns are quite similar across sheets. Therefore, the methods that we used to clean and process data are similar for each sheet. However in the end we have concatenated all the three sheets and set the index again and used a final dataset for our analysis."
   ]
  },
  {
   "cell_type": "markdown",
   "metadata": {},
   "source": [
    "Cleaning\n",
    "* Understand the meaning of each column \n",
    "* Remove irrelevant columns \n",
    "* Check duplicates and drop \n",
    "* Check null values and drop \n",
    "* Inspect the columns that include numerical values \n",
    "* Check unique values and statistics"
   ]
  },
  {
   "cell_type": "markdown",
   "metadata": {},
   "source": [
    "Transforming\n",
    "* Change data types"
   ]
  },
  {
   "cell_type": "markdown",
   "metadata": {},
   "source": [
    "Enhancing\n",
    "* Reset index \n",
    "* Reorder columns"
   ]
  },
  {
   "cell_type": "markdown",
   "metadata": {
    "id": "61-wf157Hf6S"
   },
   "source": [
    "## Data Acquisition and Cleaning Code "
   ]
  },
  {
   "cell_type": "markdown",
   "metadata": {
    "id": "POOdbn3UH5D5"
   },
   "source": [
    "For our project, we have accomplished data acquisition and data cleaning so far. We downloaded the dataset from Kaggle and obtained an overview of the data. Then we worked on understanding the meaning of each column and conducted data cleaning by removing irrelevant columns. Later, we get detailed information for each column such as statistics and unique values. We filter the data and drop null values. Finally, we reorder the columns in a way that makes more sense and is prepared for data processing. \n",
    " \n"
   ]
  },
  {
   "cell_type": "markdown",
   "metadata": {
    "id": "a7Fa9sAhFCr_"
   },
   "source": [
    "### TOBACCO USE DATASET\n",
    "\n",
    "We import the sheet about tobacco use in the data set. It contains high school students’ demographic information and their responses to their tobacco use behavior."
   ]
  },
  {
   "cell_type": "code",
   "execution_count": 1,
   "metadata": {
    "id": "eOtDYPGcFZbO"
   },
   "outputs": [
    {
     "ename": "ModuleNotFoundError",
     "evalue": "No module named 'graphviz'",
     "output_type": "error",
     "traceback": [
      "\u001b[1;31m---------------------------------------------------------------------------\u001b[0m",
      "\u001b[1;31mModuleNotFoundError\u001b[0m                       Traceback (most recent call last)",
      "\u001b[1;32m~\\AppData\\Local\\Temp\\ipykernel_11892\\1777085603.py\u001b[0m in \u001b[0;36m<module>\u001b[1;34m\u001b[0m\n\u001b[0;32m      8\u001b[0m \u001b[1;33m\u001b[0m\u001b[0m\n\u001b[0;32m      9\u001b[0m \u001b[1;31m#decision tree visualizer\u001b[0m\u001b[1;33m\u001b[0m\u001b[1;33m\u001b[0m\u001b[0m\n\u001b[1;32m---> 10\u001b[1;33m \u001b[1;32mimport\u001b[0m \u001b[0mgraphviz\u001b[0m\u001b[1;33m\u001b[0m\u001b[1;33m\u001b[0m\u001b[0m\n\u001b[0m\u001b[0;32m     11\u001b[0m \u001b[1;32mfrom\u001b[0m \u001b[0msklearn\u001b[0m \u001b[1;32mimport\u001b[0m \u001b[0mtree\u001b[0m\u001b[1;33m\u001b[0m\u001b[1;33m\u001b[0m\u001b[0m\n\u001b[0;32m     12\u001b[0m \u001b[1;32mfrom\u001b[0m \u001b[0mgraphviz\u001b[0m \u001b[1;32mimport\u001b[0m \u001b[0mSource\u001b[0m\u001b[1;33m\u001b[0m\u001b[1;33m\u001b[0m\u001b[0m\n",
      "\u001b[1;31mModuleNotFoundError\u001b[0m: No module named 'graphviz'"
     ]
    }
   ],
   "source": [
    "import pandas as pd\n",
    "import numpy as np\n",
    "from numpy import nan as NA\n",
    "import matplotlib.pyplot as plt\n",
    "import plotly.graph_objects as go\n",
    "import plotly.express as px\n",
    "from sklearn.tree import DecisionTreeRegressor \n",
    "\n",
    "#decision tree visualizer\n",
    "import graphviz \n",
    "from sklearn import tree\n",
    "from graphviz import Source"
   ]
  },
  {
   "cell_type": "code",
   "execution_count": null,
   "metadata": {
    "colab": {
     "base_uri": "https://localhost:8080/",
     "height": 939
    },
    "id": "Q-l_T0CUFbQU",
    "outputId": "46119e04-f4cb-484e-ea1e-339f20c4c33e"
   },
   "outputs": [],
   "source": [
    "#Loading the data for Tobacco use dataset\n",
    "tobacco_use = pd.read_csv('Tobacco Use.csv')\n",
    "tobacco_use"
   ]
  },
  {
   "cell_type": "code",
   "execution_count": null,
   "metadata": {
    "colab": {
     "base_uri": "https://localhost:8080/"
    },
    "id": "IjY2M3aNFvx4",
    "outputId": "577bbeb3-6f61-4ff2-dff8-57e3a1829f0e"
   },
   "outputs": [],
   "source": [
    "#Checking the attributes in the dataset to drop some of them if necessary\n",
    "tobacco_use.columns"
   ]
  },
  {
   "cell_type": "markdown",
   "metadata": {
    "id": "-ouM8-W7FwuE"
   },
   "source": [
    "We have successfully loaded the data sheet which contains total 801840 rows and 35 columns."
   ]
  },
  {
   "cell_type": "code",
   "execution_count": null,
   "metadata": {
    "colab": {
     "base_uri": "https://localhost:8080/",
     "height": 404
    },
    "id": "4ydOdqDXF0eJ",
    "outputId": "b6a7aa02-e361-40e7-f536-a1826920faf8"
   },
   "outputs": [],
   "source": [
    "#Dropping irrelevant columns for the data in Tobacco Use\n",
    "tobacco_use.drop(columns =['DataSource','Description','Data_Value_Symbol','Data_Value_Type','Lesser_Risk_Data_Value_Footnote_Symbol','Lesser_Risk_Data_Value_Footnote','Greater_Risk_Data_Value_Footnote_Symbol','Greater_Risk_Data_Value_Footnote'], inplace=True)\n",
    "tobacco_use.head()"
   ]
  },
  {
   "cell_type": "markdown",
   "metadata": {
    "id": "0NIoTCsaFiL2"
   },
   "source": [
    "For this project analysis purpose, we decide to drop irrelevant columns. Values in column ‘DataSource’ are all “YRBSS” so we can ignore. Column ‘Description' is just additional details about the survey question which is shortened in column ‘ShortQuestionText’. Because values in column ‘Data_Value_Symbol' is all “%” and ’Data_Value_Type’ is all “percentage” so we can delete those two columns also. In addition, we delete the columns of ‘Lesser_Risk_Data_Value_Footnote_Symbol', 'Lesser_Risk_Data_Value_Footnote', 'Greater_Risk_Data_Value_Footnote_Symbol', and  ‘Greater_Risk_Data_Value_Footnote' because they are all blank. \n",
    "\n"
   ]
  },
  {
   "cell_type": "code",
   "execution_count": null,
   "metadata": {
    "colab": {
     "base_uri": "https://localhost:8080/"
    },
    "id": "VSUHamXaGaAj",
    "outputId": "30686716-20e4-4650-b4bc-20f2d0233cc3"
   },
   "outputs": [],
   "source": [
    "#Finding if there are any duplicate values in the data\n",
    "tobacco_use.duplicated().sum()"
   ]
  },
  {
   "cell_type": "markdown",
   "metadata": {
    "id": "yfqMMJHLGglV"
   },
   "source": [
    "We use duplicated().sum function to check is there is any duplicated values that we need to delete. However, we don’t find any so we move on to next steps of data cleaning. "
   ]
  },
  {
   "cell_type": "code",
   "execution_count": null,
   "metadata": {
    "colab": {
     "base_uri": "https://localhost:8080/"
    },
    "id": "N-8aKT2KHRh7",
    "outputId": "fd82dbb1-d6e2-4272-c895-6c2f82f01943"
   },
   "outputs": [],
   "source": [
    "#Checking for unique values to find what kind of data in each \n",
    "tobacco_use['Subtopic'].unique()"
   ]
  },
  {
   "cell_type": "code",
   "execution_count": null,
   "metadata": {
    "colab": {
     "base_uri": "https://localhost:8080/"
    },
    "id": "hB2B2spVJgJ3",
    "outputId": "c2bdea8e-a7af-4e94-85e0-99287a332172"
   },
   "outputs": [],
   "source": [
    "tobacco_use['ShortQuestionText'].unique()"
   ]
  },
  {
   "cell_type": "code",
   "execution_count": null,
   "metadata": {
    "colab": {
     "base_uri": "https://localhost:8080/"
    },
    "id": "C_C5r-unJhMj",
    "outputId": "fea5f6ab-9032-44e6-a13c-d2472e7cc6fd"
   },
   "outputs": [],
   "source": [
    "tobacco_use['Greater_Risk_Question'].unique()"
   ]
  },
  {
   "cell_type": "code",
   "execution_count": null,
   "metadata": {
    "colab": {
     "base_uri": "https://localhost:8080/"
    },
    "id": "DLsLceiFJji9",
    "outputId": "5680edca-91aa-4c48-eff0-83541c685e69"
   },
   "outputs": [],
   "source": [
    "tobacco_use['Lesser_Risk_Question'].unique()"
   ]
  },
  {
   "cell_type": "code",
   "execution_count": null,
   "metadata": {
    "colab": {
     "base_uri": "https://localhost:8080/"
    },
    "id": "6Vr260MdJnyE",
    "outputId": "6c411f86-1ff5-44dc-c595-98592572bbab"
   },
   "outputs": [],
   "source": [
    "tobacco_use['Sex'].unique()"
   ]
  },
  {
   "cell_type": "code",
   "execution_count": null,
   "metadata": {
    "colab": {
     "base_uri": "https://localhost:8080/"
    },
    "id": "cEzkh7KxJqIn",
    "outputId": "6979c58e-f56a-4fe0-8b50-25ecb187aa3b"
   },
   "outputs": [],
   "source": [
    "tobacco_use['Race'].unique()"
   ]
  },
  {
   "cell_type": "code",
   "execution_count": null,
   "metadata": {
    "colab": {
     "base_uri": "https://localhost:8080/"
    },
    "id": "cHYvj0foJqwD",
    "outputId": "e23ca831-d986-4a45-fe70-48460ec663ec"
   },
   "outputs": [],
   "source": [
    "tobacco_use['Grade'].unique()"
   ]
  },
  {
   "cell_type": "markdown",
   "metadata": {
    "id": "7Nug9OclKOGW"
   },
   "source": [
    "We list out all unique values for each columns for more details about the dataset as a whole. Especially we could find all the locations where the data was collected from.\n",
    "\n"
   ]
  },
  {
   "cell_type": "code",
   "execution_count": null,
   "metadata": {
    "colab": {
     "base_uri": "https://localhost:8080/"
    },
    "id": "7vkdihgxKbAK",
    "outputId": "f6c17a7b-dd11-452f-94ee-39b572556b03"
   },
   "outputs": [],
   "source": [
    "#Checking for null values\n",
    "for i in tobacco_use.columns:\n",
    "    print (i, tobacco_use[i].isnull().sum())"
   ]
  },
  {
   "cell_type": "markdown",
   "metadata": {
    "id": "nqHOKqJSLVzU"
   },
   "source": [
    "We are finding the null values in the dataset for dropping the unecessary datapoints."
   ]
  },
  {
   "cell_type": "code",
   "execution_count": null,
   "metadata": {
    "colab": {
     "base_uri": "https://localhost:8080/",
     "height": 143
    },
    "id": "gLxs7YuDLVB4",
    "outputId": "d8570bba-523b-43ee-db75-892c1a7f28e6"
   },
   "outputs": [],
   "source": [
    "#Checking for values which are NA in LocationAbbr\n",
    "tobacco_use[tobacco_use[\"LocationAbbr\"]==\"NA\"]"
   ]
  },
  {
   "cell_type": "code",
   "execution_count": null,
   "metadata": {
    "colab": {
     "base_uri": "https://localhost:8080/"
    },
    "id": "mH0X17YMMsgN",
    "outputId": "e530bdfb-6ace-420d-cfe6-65df30512ad0"
   },
   "outputs": [],
   "source": [
    "#Checking the Location Description where LocationAbbr is NA\n",
    "tobacco_use[tobacco_use[\"LocationAbbr\"].isnull()][\"LocationDesc\"].unique()"
   ]
  },
  {
   "cell_type": "markdown",
   "metadata": {
    "id": "44612GvxMuhJ"
   },
   "source": [
    "We find that the value of NA in column ‘LocationAbbr’ which means ‘Navajo’ is considered as null values in Python. In order to solve that issue, we replace all NA in column ‘LocationAbbr’ by \"NA\" so it won’t interrupt when we try to drop null values. \n"
   ]
  },
  {
   "cell_type": "code",
   "execution_count": null,
   "metadata": {
    "colab": {
     "base_uri": "https://localhost:8080/"
    },
    "id": "9UodS4t1MxBG",
    "outputId": "5321c6dd-2367-4048-c4ea-b7e47b6cbbbd"
   },
   "outputs": [],
   "source": [
    "#Replacing NA in LocationAbbr with \"NA\" to not confuse Python with NA\n",
    "tobacco_use.loc[tobacco_use[\"LocationAbbr\"].isnull(), \"LocationAbbr\"] = \"NA\"\n",
    "tobacco_use[\"LocationAbbr\"].isnull().sum()"
   ]
  },
  {
   "cell_type": "code",
   "execution_count": null,
   "metadata": {
    "colab": {
     "base_uri": "https://localhost:8080/"
    },
    "id": "QKS65yB7M24b",
    "outputId": "1e285359-bea6-4db0-edd4-eb1d30b7d572"
   },
   "outputs": [],
   "source": [
    "#Checking for null values after the above change\n",
    "for i in tobacco_use.columns:\n",
    "    print (i, tobacco_use[i].isnull().sum())"
   ]
  },
  {
   "cell_type": "markdown",
   "metadata": {
    "id": "QTEFCPTqNGo0"
   },
   "source": [
    "We are changing the datatype from object to string for easier data analysis in the future. We can use various string functions to perform analytical tasks."
   ]
  },
  {
   "cell_type": "code",
   "execution_count": null,
   "metadata": {
    "id": "PtRqjAI0KLr_"
   },
   "outputs": [],
   "source": [
    "#Changing the datatype from object to string from object for easier data analysis\n",
    "tobacco_use['Sample_Size'] = tobacco_use['Sample_Size'].str.replace(',','')\n",
    "tobacco_use = tobacco_use.astype({\"LocationAbbr\":'string',\n",
    "                                                        \"LocationDesc\":'string',\n",
    "                                                       \"Topic\":'string',\"Subtopic\":'string',\n",
    "                                                      \"Greater_Risk_Question\": 'string', \"ShortQuestionText\": 'string',\"Lesser_Risk_Question\": 'string'\n",
    "                                                      ,\"Sample_Size\": 'int',\"Sex\": 'string',\n",
    "                                                      \"Race\": 'string',\"Grade\": 'string',\n",
    "                                                      \"TopicId\": 'string', \"SubTopicID\": 'string',\n",
    "                                                      \"QuestionCode\": 'string', \"LocationId\": 'string',\n",
    "                                                      \"StratID1\": 'string', \"StratID2\": 'string',\n",
    "                                                      \"StratID3\": 'string', \"StratificationType\": 'string'})"
   ]
  },
  {
   "cell_type": "markdown",
   "metadata": {
    "id": "30x5AParOV4z"
   },
   "source": [
    "As we can see in the LocationDesc column we have values of both city and state. Since, we will be using only state level data for our analysis and visualization, we will convert the LocationDesc to represent the state instead of city and change the correponding LocationAbbr column to have state codes."
   ]
  },
  {
   "cell_type": "code",
   "execution_count": null,
   "metadata": {
    "colab": {
     "base_uri": "https://localhost:8080/"
    },
    "id": "S4cGfMliO9B7",
    "outputId": "e8dedf33-a7de-465c-9e76-103eac6d265a"
   },
   "outputs": [],
   "source": [
    "#processing Location Desc column\n",
    "\n",
    "# #store the key with the full form of it\n",
    "# #update the location desc & location abbr first\n",
    "# #update the location abbr & location desc\n",
    "# #update the stratitfication type also\n",
    "# #District of Columbia is the only exception\n",
    "\n",
    "#handle District of Columbia - update stratification type, since it was \"Local\"\n",
    "tobacco_use.loc[tobacco_use[\"LocationDesc\"] == \"District of Columbia\", \"StratificationType\"] = \"State\"\n",
    "tobacco_use.loc[tobacco_use[\"LocationDesc\"] == \"District of Columbia\", \"LocationAbbr\"] = \"DCB\"\n",
    "\n",
    "#map the different abbr to the full forms\n",
    "\n",
    "print (tobacco_use[\"LocationAbbr\"].isna().sum())\n",
    "\n",
    "abbr_full_forms_dict = {}\n",
    "for _ in tobacco_use[\"LocationAbbr\"].unique():\n",
    "    abbr_full_forms_dict[_] = tobacco_use[tobacco_use[\"LocationAbbr\"] == _][\"LocationDesc\"].unique()[0]\n",
    "\n",
    "#state unique values where stratification is Local\n",
    "local_state_unique_vals = tobacco_use[tobacco_use[\"StratificationType\"]==\"Local\"][\"LocationDesc\"].unique()\n",
    "state_city_dict = {}\n",
    "for _ in local_state_unique_vals:\n",
    "    state_abbr = _.split(\",\")[-1]\n",
    "    try: state_full = abbr_full_forms_dict[state_abbr]\n",
    "    except: state_full = state_abbr\n",
    "    tobacco_use.loc[tobacco_use[\"LocationDesc\"] == _, \"LocationAbbr\"] = state_abbr\n",
    "    tobacco_use.loc[tobacco_use[\"LocationDesc\"] == _, \"LocationDesc\"] = state_full\n",
    "    tobacco_use.loc[tobacco_use[\"LocationDesc\"] == _, \"StratificationType\"] = \"State\"\n",
    "    \n",
    "#validating the change\n",
    "tobacco_use[tobacco_use[\"StratificationType\"] == \"Local\"].shape"
   ]
  },
  {
   "cell_type": "code",
   "execution_count": null,
   "metadata": {},
   "outputs": [],
   "source": []
  },
  {
   "cell_type": "markdown",
   "metadata": {
    "id": "tL1jlmLQPe2G"
   },
   "source": [
    "### Reordering and Indexing\n",
    "To make the most sense out of the data, arranging it in a logical way is a great and a crucial practice. We reorder the columns in a way that as we read the data from left to the right, we gain more knowledge about the data in a logical and sequential manner. We index the data with the appropriate columns so that the data is grouped logically and each question of the study is uniquely placed in the dataframe. Indexing by QuestionCode, YEAR, LocationDesc and the StratIDs (that provide codes for Sex, Race and Grades) is an logical way to display the observations as the risk percentage values for each Strat values aligns with the percentage values for the total demographic."
   ]
  },
  {
   "cell_type": "code",
   "execution_count": null,
   "metadata": {
    "colab": {
     "base_uri": "https://localhost:8080/",
     "height": 779
    },
    "id": "JagtjEA-Pg56",
    "outputId": "22b12b24-43fa-481f-a2c1-53c9372f3a73"
   },
   "outputs": [],
   "source": [
    "#Setting an index for the dataset to acheive each observation\n",
    "#tobacco_use = tobacco_use.set_index(keys=['QuestionCode','YEAR','LocationDesc','StratID1','StratID2','StratID3']).sort_index(level=[0,1,2,3,4,5])\n",
    "#tobacco_use[['Topic','Subtopic','ShortQuestionText','Sample_Size','Greater_Risk_Question'\n",
    "#                      ,'Greater_Risk_Data_Value','Greater_Risk_Low_Confidence_Limit',\n",
    "#                       'Greater_Risk_High_Confidence_Limit','Lesser_Risk_Question','Lesser_Risk_Data_Value',\n",
    "#                       'Lesser_Risk_Low_Confidence_Limit','Lesser_Risk_High_Confidence_Limit','Sex','Race','Grade','GeoLocation','TopicId','SubTopicID','LocationId',\n",
    "#                       'LocationAbbr','StratificationType']]"
   ]
  },
  {
   "cell_type": "code",
   "execution_count": null,
   "metadata": {},
   "outputs": [],
   "source": [
    "tobacco_use['Greater_Risk_Data_Value'].isnull().sum()"
   ]
  },
  {
   "cell_type": "code",
   "execution_count": null,
   "metadata": {},
   "outputs": [],
   "source": [
    "tobacco_use['Greater_Risk_Data_Value'].isnull().sum()"
   ]
  },
  {
   "cell_type": "code",
   "execution_count": null,
   "metadata": {},
   "outputs": [],
   "source": [
    "tobacco_use.shape"
   ]
  },
  {
   "cell_type": "code",
   "execution_count": null,
   "metadata": {},
   "outputs": [],
   "source": [
    "tobacco_use['LocationDesc'].unique()"
   ]
  },
  {
   "cell_type": "markdown",
   "metadata": {},
   "source": [
    "# Sexual Behavior"
   ]
  },
  {
   "cell_type": "markdown",
   "metadata": {},
   "source": [
    "### Using numpy, pandas and matplotlib libraries\n",
    "NumPy is a library for the Python programming language, adding support for large, multi-dimensional arrays and matrices, along with a large collection of high-level mathematical functions to operate on these arrays. Pandas is a fast, powerful and easy to perform data analysis and manipulation, built on top of the Python programming language. Matplotlib is a library enables us to create different types of visualization reports like histograms, bar charts, pie charts and many more different plots on top of the data from dataset."
   ]
  },
  {
   "cell_type": "code",
   "execution_count": null,
   "metadata": {
    "colab": {
     "base_uri": "https://localhost:8080/",
     "height": 577
    },
    "id": "lxWgLDjqEDMu",
    "outputId": "cd3766e3-aca5-4be5-8bc8-88de1831f1f4"
   },
   "outputs": [],
   "source": [
    "# Read the sexual behavior data in dataframe to further clean and process data\n",
    "sexual_behvaiours_data = pd.read_csv('Sexual Behaviors.csv')\n",
    "sexual_behvaiours_data.head()"
   ]
  },
  {
   "cell_type": "markdown",
   "metadata": {},
   "source": [
    "As part of data cleaning and processing we will now fetch the complete list of columns in this dataset. We will then filter the columns which do not align with our analysis. "
   ]
  },
  {
   "cell_type": "markdown",
   "metadata": {},
   "source": [
    "From the above list of columns we will be dropping 8 columns that will not be used in our analysis. The list of columns not required are \\['DataSource', 'Description', 'Data_Value_Symbol', 'Data_Value_Type', 'Greater_Risk_Data_Value_Footnote', 'Greater_Risk_Data_Value_Footnote_Symbol', 'Lesser_Risk_Data_Value_Footnote', 'Lesser_Risk_Data_Value_Footnote_Symbol'\\]"
   ]
  },
  {
   "cell_type": "code",
   "execution_count": null,
   "metadata": {
    "id": "cI40D4TzE1wo"
   },
   "outputs": [],
   "source": [
    "# Dropping the columns that we no longer need for anaylsis\n",
    "cols_to_drop = ['DataSource', 'Description', 'Data_Value_Symbol', 'Data_Value_Type', 'Greater_Risk_Data_Value_Footnote', 'Greater_Risk_Data_Value_Footnote_Symbol', 'Lesser_Risk_Data_Value_Footnote', 'Lesser_Risk_Data_Value_Footnote_Symbol']\n",
    "sexual_behvaiours_data.drop(columns = cols_to_drop, inplace=True)"
   ]
  },
  {
   "cell_type": "code",
   "execution_count": null,
   "metadata": {
    "colab": {
     "base_uri": "https://localhost:8080/"
    },
    "id": "ubIV195vFi12",
    "outputId": "1ab6fbe2-6212-4848-e3bd-a3e519e7b1e6"
   },
   "outputs": [],
   "source": [
    "#Display the top 5 rows to check if columns are dropped in the step given above\n",
    "sexual_behvaiours_data.head()"
   ]
  },
  {
   "cell_type": "markdown",
   "metadata": {},
   "source": [
    "In the next step, we will check for all the columns that have numerical values. This is useful to see if data has any incorrect values. For example we can check the Year column to see if there is any negative value or the Year mentioned is from future. If we find any column with dirty data, we will clean those columns. "
   ]
  },
  {
   "cell_type": "code",
   "execution_count": null,
   "metadata": {
    "colab": {
     "base_uri": "https://localhost:8080/",
     "height": 364
    },
    "id": "Iy5O2SlNFk2G",
    "outputId": "12a7c7f2-8b1b-4008-9cc7-492622201b29"
   },
   "outputs": [],
   "source": [
    "# Describe the columns having numerical value to check for anamolies in data if any. \n",
    "sexual_behvaiours_data.describe()"
   ]
  },
  {
   "cell_type": "markdown",
   "metadata": {},
   "source": [
    "Now we will check the data type of the column values and type cast the object data type to string/interger/float if required. This typecasting will further be used for numerical analysis."
   ]
  },
  {
   "cell_type": "code",
   "execution_count": null,
   "metadata": {
    "colab": {
     "base_uri": "https://localhost:8080/"
    },
    "id": "2s9B2j5rFyBC",
    "outputId": "6a7e667f-eb47-4fb5-8210-5f5e0f9e650e"
   },
   "outputs": [],
   "source": [
    "# Display the data types of different columns to check \n",
    "\n",
    "sexual_behvaiours_data.dtypes"
   ]
  },
  {
   "cell_type": "markdown",
   "metadata": {},
   "source": [
    "Now we will check for the null values in each column. Wherever the sum of null values is more than 0. We will further analyze the values in those columns to decide if we want to delete it or keep it as is."
   ]
  },
  {
   "cell_type": "code",
   "execution_count": null,
   "metadata": {
    "colab": {
     "base_uri": "https://localhost:8080/"
    },
    "id": "6W7hCoavF2-k",
    "outputId": "2ea728f7-5208-4b21-ee91-2f657648d455"
   },
   "outputs": [],
   "source": [
    "# check for null values in all columns which will then be dropped \n",
    "for i in sexual_behvaiours_data.columns:\n",
    "    print (i, sexual_behvaiours_data[i].isnull().sum())"
   ]
  },
  {
   "cell_type": "markdown",
   "metadata": {},
   "source": [
    "For LocationAbbr column we have 5280 NAN values however we have the corresponding LocationDesc value for the same. Hence, instead of dropping the NAN values we will update the LocationAbbr value based on its LocationDesc values"
   ]
  },
  {
   "cell_type": "code",
   "execution_count": null,
   "metadata": {},
   "outputs": [],
   "source": [
    "# Get the unique values of LocationDesc for which LocationAbbr is null so that we can update the LocationAbbr values based on\n",
    "#location desc values.\n",
    "sexual_behvaiours_data[sexual_behvaiours_data[\"LocationAbbr\"].isnull()][\"LocationDesc\"].unique()"
   ]
  },
  {
   "cell_type": "markdown",
   "metadata": {},
   "source": [
    "In the above step we try to find the unique values of LocationDesc for which LocationAbbr is Null. We will then use these LocationDesc values to update the LocationAbbr values. As observed all the LocationAbbr values are null for the same LocationDesc value i.e. 'Navajo'.\n",
    "We can update the LocationAbbr value to either 'NO' or 'NA' as per the rest of the data. But since 'NO' value for LocationAbbr is already present in the dataset for 'New Orleans, LA' as shown in the below step, we will update the 'LocationAbbr' for 'Navajo' to 'NA'."
   ]
  },
  {
   "cell_type": "code",
   "execution_count": null,
   "metadata": {},
   "outputs": [],
   "source": [
    "# Check if there are values in dataset for 'LocationAbbr ' = 'NO'\n",
    "sexual_behvaiours_data[sexual_behvaiours_data[\"LocationAbbr\"]==\"NO\"]"
   ]
  },
  {
   "cell_type": "code",
   "execution_count": null,
   "metadata": {},
   "outputs": [],
   "source": [
    "# check if there is any value in dataset for LocationAbbr = NA.\n",
    "sexual_behvaiours_data[sexual_behvaiours_data[\"LocationAbbr\"]==\"NA\"]\n"
   ]
  },
  {
   "cell_type": "code",
   "execution_count": null,
   "metadata": {},
   "outputs": [],
   "source": [
    "#Update the value of LocationAbbr to 'NA' and check for any null values to confirm if update was successful\n",
    "sexual_behvaiours_data.loc[sexual_behvaiours_data[\"LocationAbbr\"].isnull(), \"LocationAbbr\"] = \"NA\"\n",
    "sexual_behvaiours_data[\"LocationAbbr\"].isnull().sum()"
   ]
  },
  {
   "cell_type": "markdown",
   "metadata": {},
   "source": [
    "Since, we have 0 NULL values for LocationAbbr column, the update was successful."
   ]
  },
  {
   "cell_type": "code",
   "execution_count": null,
   "metadata": {},
   "outputs": [],
   "source": [
    "sexual_behvaiours_data[\"LocationDesc\"].unique()"
   ]
  },
  {
   "cell_type": "markdown",
   "metadata": {},
   "source": [
    "As we can see in the LocationDesc column we have values of both city and state. Since, we will be using only state level data for our analysis and visualization, we will convert the LocationDesc to represent the state instead of city and change the correponding LocationAbbr column to have state codes."
   ]
  },
  {
   "cell_type": "code",
   "execution_count": null,
   "metadata": {},
   "outputs": [],
   "source": [
    "#processing Location Desc column | TO-DO : have to improve this\n",
    "\n",
    "# #store the key with the full form of it\n",
    "# #update the location desc & location abbr first\n",
    "# #update the location abbr & location desc\n",
    "# #update the stratitfication type also\n",
    "# #District of Columbia is the only exception\n",
    "\n",
    "#handle District of Columbia - update stratification type, since it was \"Local\"\n",
    "sexual_behvaiours_data.loc[sexual_behvaiours_data[\"LocationDesc\"] == \"District of Columbia\", \"StratificationType\"] = \"State\"\n",
    "sexual_behvaiours_data.loc[sexual_behvaiours_data[\"LocationDesc\"] == \"District of Columbia\", \"LocationAbbr\"] = \"DCB\"\n",
    "\n",
    "#map the different abbr to the full forms\n",
    "\n",
    "print (sexual_behvaiours_data[\"LocationAbbr\"].isna().sum())\n",
    "\n",
    "abbr_full_forms_dict = {}\n",
    "for _ in sexual_behvaiours_data[\"LocationAbbr\"].unique():\n",
    "    abbr_full_forms_dict[_] = sexual_behvaiours_data[sexual_behvaiours_data[\"LocationAbbr\"] == _][\"LocationDesc\"].unique()[0]\n",
    "print (abbr_full_forms_dict)\n",
    "\n",
    "# print (abbr_full_forms_dict[\"IL\"])\n",
    "    \n",
    "#state unique values where stratification is Local\n",
    "local_state_unique_vals = sexual_behvaiours_data[sexual_behvaiours_data[\"StratificationType\"]==\"Local\"][\"LocationDesc\"].unique()\n",
    "state_city_dict = {}\n",
    "for _ in local_state_unique_vals:\n",
    "    state_abbr = _.split(\",\")[-1]\n",
    "    state_full = abbr_full_forms_dict.get(state_abbr)\n",
    "    #updating values of LocationAbbr, LocationDesc, StratificationType\n",
    "    sexual_behvaiours_data.loc[sexual_behvaiours_data[\"LocationDesc\"] == _, \"LocationAbbr\"] = state_abbr\n",
    "    sexual_behvaiours_data.loc[sexual_behvaiours_data[\"LocationDesc\"] == _, \"LocationDesc\"] = state_full\n",
    "    sexual_behvaiours_data.loc[sexual_behvaiours_data[\"LocationDesc\"] == _, \"StratificationType\"] = \"State\"\n",
    "    \n",
    "#validating the change\n",
    "# sexual_behvaiours_data[sexual_behvaiours_data[\"StratificationType\"] == \"Local\"].shape\n"
   ]
  },
  {
   "cell_type": "markdown",
   "metadata": {},
   "source": [
    "Out of our 0.7 million + observations only 20% of the observations have statistical data that can be used for our analysis. The remainder of the data can be dropped from the dataset as having obersavtions with no statistical data does not make sense. The key columns for statistical analysis are identified as 'Greater_Risk_Data_Value', 'Greater_Risk_Low_Confidence_Limit',  'Greater_Risk_High_Confidence_Limit', 'Lesser_Risk_Data_Value', 'Lesser_Risk_Low_Confidence_Limit', 'Lesser_Risk_High_Confidence_Limit'. We eliminate the rows that do not have data for these values. By further analysing the data, we observe that the blank values for the above mentioned columns exists only for the health risks questions that have very small sample sizes. As we cannot generalize trends based on observations having smaller sample groups, it does not make much sense to include them in our analysis. Such observations with samples sizes are automatically removed while cleaning blank values for the numerical data columns."
   ]
  },
  {
   "cell_type": "code",
   "execution_count": null,
   "metadata": {},
   "outputs": [],
   "source": [
    "sexual_behvaiours_data['Greater_Risk_Data_Value'].isnull().sum()"
   ]
  },
  {
   "cell_type": "code",
   "execution_count": null,
   "metadata": {},
   "outputs": [],
   "source": [
    "#processing Greater Risk & Lesser Risk Data Value colummns\n",
    "#just considering the observations where \n",
    "print (sexual_behvaiours_data.shape)\n",
    "print (sexual_behvaiours_data[\"Sample_Size\"].value_counts())\n",
    "\n",
    "sexual_behvaiours_data = sexual_behvaiours_data[sexual_behvaiours_data[\"Greater_Risk_Data_Value\"].notnull() & sexual_behvaiours_data[\"Lesser_Risk_Data_Value\"].notnull()]\n",
    "\n",
    "print (\"\\n\", sexual_behvaiours_data.shape)\n",
    "print (sexual_behvaiours_data[\"Sample_Size\"].value_counts())\n"
   ]
  },
  {
   "cell_type": "code",
   "execution_count": null,
   "metadata": {},
   "outputs": [],
   "source": [
    "sexual_behvaiours_data['Greater_Risk_Data_Value'].isnull().sum()"
   ]
  },
  {
   "cell_type": "markdown",
   "metadata": {},
   "source": [
    "We have NULL values for Lesser_Risk_Question but on further analysis we found that the Greater_Risk_Question for this category doesnot necessarily require a Lesser_Risk_Question. Hence, we donot plan to drop these values."
   ]
  },
  {
   "cell_type": "code",
   "execution_count": null,
   "metadata": {},
   "outputs": [],
   "source": [
    "#observation that the lesser risk data question is null & greater risk exists, and observing a pattern\n",
    "sexual_behvaiours_data[sexual_behvaiours_data[\"Lesser_Risk_Question\"].isnull()][\"Greater_Risk_Question\"].unique()\n"
   ]
  },
  {
   "cell_type": "markdown",
   "metadata": {},
   "source": [
    "We now need to typecast the columns to required data types that we will neeed as per our analysis. We have set the datatype of all the columns that we need to typecast below in the dictionary."
   ]
  },
  {
   "cell_type": "code",
   "execution_count": null,
   "metadata": {},
   "outputs": [],
   "source": [
    "#typecasting the values as per the the requirement in future analysis\n",
    "\n",
    "sexual_behvaiours_data['Sample_Size'] = sexual_behvaiours_data['Sample_Size'].str.replace(',','')\n",
    "\n",
    "\n",
    "print (sexual_behvaiours_data.dtypes)\n",
    "sexual_behvaiours_data = sexual_behvaiours_data.astype({\"LocationAbbr\":'string',\n",
    "                                                        \"LocationDesc\":'string',\n",
    "                                                        \"Topic\":'string',\n",
    "                                                        \"Subtopic\":'string',\n",
    "                                                        \"Greater_Risk_Question\": 'string', \n",
    "                                                        \"ShortQuestionText\": 'string',\n",
    "                                                        \"Lesser_Risk_Question\": 'string',\n",
    "                                                        \"Sample_Size\": 'int',\n",
    "                                                        \"Sex\": 'string',\n",
    "                                                        \"Race\": 'string',\n",
    "                                                        \"Grade\": 'string',\n",
    "                                                        \"TopicId\": 'string', \n",
    "                                                        \"SubTopicID\": 'string',\n",
    "                                                        \"QuestionCode\": 'string', \n",
    "                                                        \"LocationId\": 'string',\n",
    "                                                        \"StratID1\": 'string',\n",
    "                                                        \"StratID2\": 'string',\n",
    "                                                        \"StratID3\": 'string', \n",
    "                                                        \"StratificationType\": 'string'})\n",
    "\n",
    "print (\"\\n\", sexual_behvaiours_data.dtypes)"
   ]
  },
  {
   "cell_type": "markdown",
   "metadata": {},
   "source": [
    "To make the most sense out of the data, arranging it in a logical way is a great and a crucial practice. We reorder the columns in a way that as we read the data from left to the right, we gain more knowledge about the data in a logical and sequential manner. We index the data with the appropriate columns so that the data is grouped logically and each question of the study is uniquely placed in the dataframe."
   ]
  },
  {
   "cell_type": "code",
   "execution_count": null,
   "metadata": {},
   "outputs": [],
   "source": [
    "#setting index to logically for easy analysis.\n",
    "#sexual_behvaiours_data = sexual_behvaiours_data.set_index(keys=['QuestionCode','YEAR','LocationDesc','StratID1','StratID2','StratID3']).sort_index(level=[0,1,2,3,4,5])\n"
   ]
  },
  {
   "cell_type": "markdown",
   "metadata": {},
   "source": [
    "To make the most sense out of the data, arranging it in a logical way is a great and a crucial practice. We reorder the columns in a way that as we read the data from left to the right, we gain more knowledge about the data in a logical and sequential manner. We index the data with the appropriate columns so that the data is grouped logically and each question of the study is uniquely placed in the dataframe. Indexing by QuestionCode, YEAR, LocationDesc and the StratIDs (that provide codes for Sex, Race and Grades) is an logical way to display the observations as the risk percentage values for each Strat values aligns with the percentage values for the total demographic."
   ]
  },
  {
   "cell_type": "code",
   "execution_count": null,
   "metadata": {},
   "outputs": [],
   "source": [
    "#reordering the columns\n",
    "#sexual_behvaiours_data = sexual_behvaiours_data[['Topic','Subtopic','ShortQuestionText','Sample_Size','Greater_Risk_Question',\n",
    "#                                                   'Greater_Risk_Data_Value','Greater_Risk_Low_Confidence_Limit',\n",
    "#                                                   'Greater_Risk_High_Confidence_Limit','Lesser_Risk_Question','Lesser_Risk_Data_Value',\n",
    "#                                                   'Lesser_Risk_Low_Confidence_Limit','Lesser_Risk_High_Confidence_Limit','Sex','Race','Grade',\n",
    "#                                                   'GeoLocation','TopicId','SubTopicID','LocationId', 'LocationAbbr','StratificationType']]\n",
    "#sexual_behvaiours_data.head()"
   ]
  },
  {
   "cell_type": "code",
   "execution_count": null,
   "metadata": {},
   "outputs": [],
   "source": [
    "sexual_behvaiours_data['Greater_Risk_Data_Value'].isnull().sum()"
   ]
  },
  {
   "cell_type": "code",
   "execution_count": null,
   "metadata": {},
   "outputs": [],
   "source": [
    "sexual_behvaiours_data['Greater_Risk_Data_Value'].describe()"
   ]
  },
  {
   "cell_type": "markdown",
   "metadata": {
    "id": "_dDVjcooGQXe"
   },
   "source": [
    "We are yet to find out the potential use of GeoLocation column, hence we are keeping it for now."
   ]
  },
  {
   "cell_type": "markdown",
   "metadata": {},
   "source": [
    "## For Alcohol and Drug Use"
   ]
  },
  {
   "cell_type": "markdown",
   "metadata": {},
   "source": [
    "### Using numpy, pandas and matplotlib libraries\n",
    "NumPy is a library for the Python programming language, adding support for large, multi-dimensional arrays and matrices, along with a large collection of high-level mathematical functions to operate on these arrays. Pandas is a fast, powerful and easy to perform data analysis and manipulation, built on top of the Python programming language. Matplotlib is a library enables us to create different types of visualization reports like histograms, bar charts, pie charts and many more different plots on top of the data from dataset."
   ]
  },
  {
   "cell_type": "code",
   "execution_count": null,
   "metadata": {},
   "outputs": [],
   "source": [
    "# Importing our alcohol and drug use data set as a dataframe using pandas\n",
    "alcohol_drug_use_data = pd.read_csv(r'Alcohol and Other Drug Use.csv')"
   ]
  },
  {
   "cell_type": "code",
   "execution_count": null,
   "metadata": {},
   "outputs": [],
   "source": [
    "# Removing columns that are not relevant for our analysis\n",
    "alcohol_drug_use_data.drop(axis = 1, columns = ['DataSource','Description','Data_Value_Symbol','Data_Value_Type','Lesser_Risk_Data_Value_Footnote_Symbol','Lesser_Risk_Data_Value_Footnote','Greater_Risk_Data_Value_Footnote_Symbol','Greater_Risk_Data_Value_Footnote'], inplace = True)"
   ]
  },
  {
   "cell_type": "markdown",
   "metadata": {},
   "source": [
    "### Dealing with irrelavant columns\n",
    "To make our dataset more useful for analysis we eliminate the columns that do not add value. For example, the 'DataSource' column has the same value for all the observations and this doesn't really give us any valuable information and so we drop the column from our dataset. Additionally, columns that have no values such as 'Greater_Risk_Data_Value_Footnote' and 'Lesser_Risk_Data_Value_Footnote_Symbol' are also dropped from the dataset."
   ]
  },
  {
   "cell_type": "code",
   "execution_count": null,
   "metadata": {},
   "outputs": [],
   "source": [
    "# Checking shpae of our data after removing columns\n",
    "alcohol_drug_use_data.shape"
   ]
  },
  {
   "cell_type": "code",
   "execution_count": null,
   "metadata": {},
   "outputs": [],
   "source": [
    "# Checking data types for each of our columns\n",
    "alcohol_drug_use_data.dtypes"
   ]
  },
  {
   "cell_type": "code",
   "execution_count": null,
   "metadata": {},
   "outputs": [],
   "source": [
    "alcohol_drug_use_data['Sample_Size'] = alcohol_drug_use_data['Sample_Size'].str.replace(',','')\n",
    "alcohol_drug_use_data = alcohol_drug_use_data.astype({\"LocationAbbr\":'string',\n",
    "                                                        \"LocationDesc\":'string',\n",
    "                                                       \"Topic\":'string',\"Subtopic\":'string',\n",
    "                                                      \"Greater_Risk_Question\": 'string', \"ShortQuestionText\": 'string',\"Lesser_Risk_Question\": 'string'\n",
    "                                                      ,\"Sample_Size\": 'int',\"Sex\": 'string',\n",
    "                                                      \"Race\": 'string',\"Grade\": 'string',\n",
    "                                                      \"TopicId\": 'string', \"SubTopicID\": 'string',\n",
    "                                                      \"QuestionCode\": 'string', \"LocationId\": 'string',\n",
    "                                                      \"StratID1\": 'string', \"StratID2\": 'string',\n",
    "                                                      \"StratID3\": 'string', \"StratificationType\": 'string'})\n",
    "                                                      "
   ]
  },
  {
   "cell_type": "markdown",
   "metadata": {},
   "source": [
    "### Maintaining consistent datatypes\n",
    "After looking at the datatypes of each column, we observe that the the descriptive columns are of object datatype. To maintain consistency and to avoid datatype mismatch errors we convert the object datatype into string datatype. \n"
   ]
  },
  {
   "cell_type": "code",
   "execution_count": null,
   "metadata": {},
   "outputs": [],
   "source": [
    "#Checking for null values\n",
    "for i in alcohol_drug_use_data.columns:\n",
    "    print (i, alcohol_drug_use_data[i].isnull().sum())"
   ]
  },
  {
   "cell_type": "markdown",
   "metadata": {},
   "source": [
    "There are zero values for Location Desc, whereas LocationAbbr has around 8640 null values, so its of no point to drop rows based on LocationAbbr."
   ]
  },
  {
   "cell_type": "code",
   "execution_count": null,
   "metadata": {},
   "outputs": [],
   "source": [
    "# Checking unique values for YEAR column\n",
    "alcohol_drug_use_data['YEAR'].unique()"
   ]
  },
  {
   "cell_type": "code",
   "execution_count": null,
   "metadata": {},
   "outputs": [],
   "source": [
    "# Cheking for what location the location abbreviation is NULL\n",
    "alcohol_drug_use_data[alcohol_drug_use_data[\"LocationAbbr\"].isnull()][\"LocationDesc\"].unique()\n",
    "alcohol_drug_use_data[alcohol_drug_use_data[\"LocationDesc\"]==\"Navajo\"][\"LocationAbbr\"].unique()\n",
    "alcohol_drug_use_data[alcohol_drug_use_data[\"LocationAbbr\"]==\"NO\"]\n",
    "alcohol_drug_use_data[alcohol_drug_use_data[\"LocationAbbr\"]==\"NA\"]\n",
    "\n",
    "# Updating location abbreviation of Navajo to NA\n",
    "alcohol_drug_use_data.loc[alcohol_drug_use_data[\"LocationAbbr\"].isnull(), \"LocationAbbr\"] = \"NA\""
   ]
  },
  {
   "cell_type": "code",
   "execution_count": null,
   "metadata": {},
   "outputs": [],
   "source": [
    "# Checking unique values for LocationAbbr column\n",
    "alcohol_drug_use_data['LocationAbbr'].unique()"
   ]
  },
  {
   "cell_type": "code",
   "execution_count": null,
   "metadata": {},
   "outputs": [],
   "source": [
    "# Checking unique values for LocationDesc column\n",
    "alcohol_drug_use_data['LocationDesc'].unique()"
   ]
  },
  {
   "cell_type": "code",
   "execution_count": null,
   "metadata": {},
   "outputs": [],
   "source": [
    "# Checking unique values for Topic column\n",
    "alcohol_drug_use_data['Topic'].unique()"
   ]
  },
  {
   "cell_type": "code",
   "execution_count": null,
   "metadata": {},
   "outputs": [],
   "source": [
    "alcohol_drug_use_data [alcohol_drug_use_data['LocationDesc'] == 'Dallas']['LocationAbbr']"
   ]
  },
  {
   "cell_type": "code",
   "execution_count": null,
   "metadata": {},
   "outputs": [],
   "source": [
    "# Checking unique values for Subtopic column\n",
    "alcohol_drug_use_data['Subtopic'].unique()"
   ]
  },
  {
   "cell_type": "code",
   "execution_count": null,
   "metadata": {},
   "outputs": [],
   "source": [
    "# Checking unique values for ShortQuestionText  column\n",
    "alcohol_drug_use_data['ShortQuestionText'].unique()"
   ]
  },
  {
   "cell_type": "code",
   "execution_count": null,
   "metadata": {},
   "outputs": [],
   "source": [
    "# Checking unique values for Sex column\n",
    "alcohol_drug_use_data['Sex'].unique()"
   ]
  },
  {
   "cell_type": "code",
   "execution_count": null,
   "metadata": {},
   "outputs": [],
   "source": [
    "# Checking unique values for Race column\n",
    "alcohol_drug_use_data['Race'].unique()"
   ]
  },
  {
   "cell_type": "code",
   "execution_count": null,
   "metadata": {},
   "outputs": [],
   "source": [
    "# Checking unique values for Grade column\n",
    "alcohol_drug_use_data['Grade'].unique()"
   ]
  },
  {
   "cell_type": "code",
   "execution_count": null,
   "metadata": {},
   "outputs": [],
   "source": [
    "# Checking unique values for TopicId column\n",
    "alcohol_drug_use_data['TopicId'].unique()"
   ]
  },
  {
   "cell_type": "code",
   "execution_count": null,
   "metadata": {},
   "outputs": [],
   "source": [
    "# Checking unique values for TopicId column\n",
    "alcohol_drug_use_data['SubTopicID'].unique()"
   ]
  },
  {
   "cell_type": "code",
   "execution_count": null,
   "metadata": {},
   "outputs": [],
   "source": [
    "# Checking unique values for TopicId column\n",
    "alcohol_drug_use_data['QuestionCode'].unique()"
   ]
  },
  {
   "cell_type": "code",
   "execution_count": null,
   "metadata": {},
   "outputs": [],
   "source": [
    "# Checking unique values for TopicId column\n",
    "alcohol_drug_use_data['TopicId'].unique()"
   ]
  },
  {
   "cell_type": "code",
   "execution_count": null,
   "metadata": {},
   "outputs": [],
   "source": [
    "# Checking unique values for SubTopicID column\n",
    "alcohol_drug_use_data['SubTopicID'].unique()"
   ]
  },
  {
   "cell_type": "code",
   "execution_count": null,
   "metadata": {},
   "outputs": [],
   "source": [
    "# Checking unique values for StratID1 column\n",
    "alcohol_drug_use_data['StratID1'].unique()"
   ]
  },
  {
   "cell_type": "code",
   "execution_count": null,
   "metadata": {
    "scrolled": true
   },
   "outputs": [],
   "source": [
    "# Checking unique values for StratID2 column\n",
    "alcohol_drug_use_data['StratID2'].unique()"
   ]
  },
  {
   "cell_type": "code",
   "execution_count": null,
   "metadata": {},
   "outputs": [],
   "source": [
    "# Checking unique values for StratID3 column\n",
    "alcohol_drug_use_data['StratID3'].unique()"
   ]
  },
  {
   "cell_type": "markdown",
   "metadata": {},
   "source": [
    "### Check the dataset for dirty data\n",
    "Identifying and handling dirty data are crucial processes for data processing and analysis. One of the best way to identify dirty data in huge datasets is by using the isnull() function and identifying the missing values. Also, checking the unique values in each column using the unique() function helps us determine if there are any values that do not align with the column descriptions. Using these two methods, dirty data can be easily identified and processed so that it becomes easier to manipulate the data for further analysis."
   ]
  },
  {
   "cell_type": "code",
   "execution_count": null,
   "metadata": {
    "scrolled": true
   },
   "outputs": [],
   "source": [
    "#processing Location Desc column\n",
    "# #store the key with the full form of it\n",
    "# #update the location desc & location abbr first\n",
    "# #update the location abbr & location desc\n",
    "# #update the stratitfication type also\n",
    "# #District of Columbia is the only exception\n",
    "\n",
    "#handle District of Columbia - update stratification type, since it was \"Local\"\n",
    "alcohol_drug_use_data.loc[alcohol_drug_use_data[\"LocationDesc\"] == \"District of Columbia\", \"StratificationType\"] = \"State\"\n",
    "alcohol_drug_use_data.loc[alcohol_drug_use_data[\"LocationDesc\"] == \"District of Columbia\", \"LocationAbbr\"] = \"DCB\"\n",
    "\n",
    "#map the different abbr to the full forms\n",
    "print (alcohol_drug_use_data[\"LocationAbbr\"].isna().sum())\n",
    "\n",
    "abbr_full_forms_dict = {}\n",
    "for _ in alcohol_drug_use_data[\"LocationAbbr\"].unique():\n",
    "    abbr_full_forms_dict[_] = alcohol_drug_use_data[alcohol_drug_use_data[\"LocationAbbr\"] == _][\"LocationDesc\"].unique()[0]\n",
    "\n",
    "#state unique values where stratification is Local\n",
    "local_state_unique_vals = alcohol_drug_use_data[alcohol_drug_use_data[\"StratificationType\"]==\"Local\"][\"LocationDesc\"].unique()\n",
    "state_city_dict = {}\n",
    "for _ in local_state_unique_vals:\n",
    "    state_abbr = _.split(\",\")[-1]\n",
    "    try: state_full = abbr_full_forms_dict[state_abbr]\n",
    "    except: state_full = state_abbr\n",
    "    alcohol_drug_use_data.loc[alcohol_drug_use_data[\"LocationDesc\"] == _, \"LocationAbbr\"] = state_abbr\n",
    "    alcohol_drug_use_data.loc[alcohol_drug_use_data[\"LocationDesc\"] == _, \"LocationDesc\"] = state_full\n",
    "    alcohol_drug_use_data.loc[alcohol_drug_use_data[\"LocationDesc\"] == _, \"StratificationType\"] = \"State\"\n",
    "    \n",
    "#validating the change\n",
    "alcohol_drug_use_data[alcohol_drug_use_data[\"StratificationType\"] == \"Local\"].shape"
   ]
  },
  {
   "cell_type": "markdown",
   "metadata": {},
   "source": [
    "### Check the dataset for dirty data continued...\n",
    "Further checking the dataset for dirty data, we try to find the unique values of LocationDesc for which LocationAbbr is Null. We will then use these LocationDesc values to update the LocationAbbr values. As observed all the LocationAbbr values are null for the same LocationDesc value i.e. 'Navajo'. We can update the LocationAbbr value to either 'NO' or 'NA' as per the rest of the data. But since 'NO' value for LocationAbbr is already present in the dataset for 'New Orleans, LA' as shown in the below step, we will update the 'LocationAbbr' for 'Navajo' to 'NA'. <br> As we aim to build this dataset to analyse data at state level, we eliminate the observations at country level. therefore, the location United States and its observations are dropped from the dataset. <br> As we can see in the LocationDesc column we have values of both city and state. Since, we will be using only state level data for our analysis and visualization, we will convert the LocationDesc to represent the state instead of city and change the correponding LocationAbbr column to have state codes.\n"
   ]
  },
  {
   "cell_type": "code",
   "execution_count": null,
   "metadata": {},
   "outputs": [],
   "source": [
    "# Removing all rows where the Greater_Risk_Data_Value, Greater_Risk_Low_Confidence_Limit and Greater_Risk_High_Confidence_Limit is blank\n",
    "alcohol_drug_use_data['Greater_Risk_Data_Value'].replace('',np.nan,inplace = True)\n",
    "alcohol_drug_use_data['Greater_Risk_Low_Confidence_Limit'].replace('',np.nan,inplace = True)\n",
    "alcohol_drug_use_data['Greater_Risk_High_Confidence_Limit'].replace('',np.nan,inplace = True)\n",
    "\n",
    "alcohol_drug_use_data['Lesser_Risk_Data_Value'].replace('',np.nan,inplace = True)\n",
    "alcohol_drug_use_data['Lesser_Risk_Low_Confidence_Limit'].replace('',np.nan,inplace = True)\n",
    "alcohol_drug_use_data['Lesser_Risk_High_Confidence_Limit'].replace('',np.nan,inplace = True)\n",
    "alcohol_drug_use_data.dropna(thresh=22,inplace =True)"
   ]
  },
  {
   "cell_type": "markdown",
   "metadata": {},
   "source": [
    "### Handling blank values in numeric data columns\n",
    "Out of our 1 million + observations only 35% of the observations have statistical data that can be used for our analysis. The remainder of the data can be dropped from the dataset as having obersavtions with no statistical data does not make sense. The key columns for statistical analysis are identified as 'Greater_Risk_Data_Value', 'Greater_Risk_Low_Confidence_Limit',  'Greater_Risk_High_Confidence_Limit', 'Lesser_Risk_Data_Value', 'Lesser_Risk_Low_Confidence_Limit', 'Lesser_Risk_High_Confidence_Limit'. We eliminate the rows that do not have data for these values. "
   ]
  },
  {
   "cell_type": "code",
   "execution_count": null,
   "metadata": {},
   "outputs": [],
   "source": [
    "alcohol_drug_use_data['Greater_Risk_Data_Value'].isnull().sum()"
   ]
  },
  {
   "cell_type": "code",
   "execution_count": null,
   "metadata": {},
   "outputs": [],
   "source": [
    "# Checking shape of data after removing columns in the previous step\n",
    "alcohol_drug_use_data.shape"
   ]
  },
  {
   "cell_type": "code",
   "execution_count": null,
   "metadata": {},
   "outputs": [],
   "source": [
    "# Dropping rows with location description as United States, because we are analyzing at state level\n",
    "alcohol_drug_use_data.drop(alcohol_drug_use_data[alcohol_drug_use_data['LocationDesc'] == 'United States'].index, inplace = True)"
   ]
  },
  {
   "cell_type": "code",
   "execution_count": null,
   "metadata": {
    "scrolled": true
   },
   "outputs": [],
   "source": [
    "#alcohol_drug_use_data = alcohol_drug_use_data.set_index(keys=['QuestionCode','YEAR','LocationDesc','StratID1','StratID2','StratID3']).sort_index(level=[0,1,2,3,4,5])\n",
    "#alcohol_drug_use_data[['Topic','Subtopic','ShortQuestionText','Sample_Size','Greater_Risk_Question'\n",
    " #                     ,'Greater_Risk_Data_Value','Greater_Risk_Low_Confidence_Limit',\n",
    " #                      'Greater_Risk_High_Confidence_Limit','Lesser_Risk_Question','Lesser_Risk_Data_Value',\n",
    " #                      'Lesser_Risk_Low_Confidence_Limit','Lesser_Risk_High_Confidence_Limit','Sex','Race','Grade','GeoLocation','TopicId','SubTopicID','LocationId',\n",
    " #                      'LocationAbbr','StratificationType']]"
   ]
  },
  {
   "cell_type": "code",
   "execution_count": null,
   "metadata": {},
   "outputs": [],
   "source": [
    "alcohol_drug_use_data.shape"
   ]
  },
  {
   "cell_type": "markdown",
   "metadata": {},
   "source": [
    "### Reordering and Indexing\n",
    "To make the most sense out of the data, arranging it in a logical way is a great and a crucial practice. We reorder the columns in a way that as we read the data from left to the right, we gain more knowledge about the data in a logical and sequential manner. We index the data with the appropriate columns so that the data is grouped logically and each question of the study is uniquely placed in the dataframe. Indexing by QuestionCode, YEAR, LocationDesc and the StratIDs (that provide codes for Sex, Race and Grades) is an logical way to display the observations as the risk percentage values for each Strat values aligns with the percentage values for the total demographic."
   ]
  },
  {
   "cell_type": "markdown",
   "metadata": {},
   "source": [
    "### PROJECT ANALYSIS"
   ]
  },
  {
   "cell_type": "code",
   "execution_count": null,
   "metadata": {},
   "outputs": [],
   "source": [
    "tobacco_use = tobacco_use[tobacco_use[\"Greater_Risk_Data_Value\"].notnull() & tobacco_use[\"Lesser_Risk_Data_Value\"].notnull()]\n",
    "\n",
    "all_data = pd.concat([tobacco_use, sexual_behvaiours_data, alcohol_drug_use_data], ignore_index=True)\n",
    "\n",
    "all_data = all_data[(all_data['Sex'] != 'Total')]\n",
    "all_data = all_data[all_data['Race'] != 'Total'] \n",
    "all_data = all_data[all_data['Grade'] != 'Total'] \n",
    "\n",
    "all_data = all_data[all_data['LocationDesc'].isnull()== False]\n",
    "\n",
    "all_data = all_data[all_data['Sample_Size']>30]\n",
    "\n",
    "all_data = all_data.set_index(keys=['QuestionCode','YEAR','LocationDesc','StratID1','StratID2','StratID3']).sort_index(level=[0,1,2,3,4,5])\n",
    "all_data = all_data[['Topic','Subtopic','ShortQuestionText','Sample_Size','Greater_Risk_Question','Greater_Risk_Data_Value','Greater_Risk_Low_Confidence_Limit','Greater_Risk_High_Confidence_Limit','Lesser_Risk_Question','Lesser_Risk_Data_Value','Lesser_Risk_Low_Confidence_Limit','Lesser_Risk_High_Confidence_Limit','Sex','Race','Grade','GeoLocation','TopicId','SubTopicID','LocationId','LocationAbbr','StratificationType']]\n"
   ]
  },
  {
   "cell_type": "code",
   "execution_count": null,
   "metadata": {},
   "outputs": [],
   "source": [
    "# This is clean dataframe.\n",
    "all_data.head(20)"
   ]
  },
  {
   "cell_type": "markdown",
   "metadata": {},
   "source": [
    "## Alcohol and drug use among youth in different states of the United States\n",
    "\n",
    "We are now going to check if there is an increase in the youth risk behaviour due to alcohol and drug abuse in the different states of US. We are expecting an increase in the above mentioned risky behavior throughout the states as the access to drugs and alcohol has become easier over time. The states which we assumed would have the most youth risk behavior were Nevada and New York. Let us find out if our assumptions are supported by the data."
   ]
  },
  {
   "cell_type": "markdown",
   "metadata": {},
   "source": [
    "### Data Processing\n",
    "Before we move on to create a visualization which would help us analyse the data we will first process the data accurately in order for it to be suitable for creating visualizations."
   ]
  },
  {
   "cell_type": "code",
   "execution_count": null,
   "metadata": {},
   "outputs": [],
   "source": [
    "#Using the concatenated datset\n",
    "final_data = pd.read_csv('/Users/aayushgadia/Downloads/final_data.csv')\n",
    "final_data.head(5)"
   ]
  },
  {
   "cell_type": "code",
   "execution_count": null,
   "metadata": {},
   "outputs": [],
   "source": [
    "#Creating a copy to keep the original dataset intact\n",
    "final_data_copy = final_data.copy()\n",
    "final_data_copy.head(5)"
   ]
  },
  {
   "cell_type": "code",
   "execution_count": null,
   "metadata": {},
   "outputs": [],
   "source": [
    "#Dropping null values in GeoLocation as they won't be fit for our analysis\n",
    "final_data_copy.dropna(thresh=26, inplace=True)"
   ]
  },
  {
   "cell_type": "code",
   "execution_count": null,
   "metadata": {},
   "outputs": [],
   "source": [
    "#Converting GeoLocation to string for spliting latitude and longitude\n",
    "final_data_copy.astype({'GeoLocation':'string'})"
   ]
  },
  {
   "cell_type": "code",
   "execution_count": null,
   "metadata": {},
   "outputs": [],
   "source": [
    "#Created two columns with latitude and longitude\n",
    "final_data_copy['Latitude'] = final_data_copy['GeoLocation'].str.split(',', expand= True)[[0]]\n",
    "final_data_copy['Longitude'] = final_data_copy['GeoLocation'].str.split(',', expand= True)[[1]]"
   ]
  },
  {
   "cell_type": "code",
   "execution_count": null,
   "metadata": {},
   "outputs": [],
   "source": [
    "#Created two columns with latitude and longitude\n",
    "final_data_copy['Latitude'] = final_data_copy['GeoLocation'].str.split(',', expand= True)[[0]]\n",
    "final_data_copy['Longitude'] = final_data_copy['GeoLocation'].str.split(',', expand= True)[[1]]"
   ]
  },
  {
   "cell_type": "code",
   "execution_count": null,
   "metadata": {},
   "outputs": [],
   "source": [
    "#Removing brackets from them to convert them into float\n",
    "final_data_copy['Latitude'] = final_data_copy['Latitude'].str.replace('(','',regex=True)"
   ]
  },
  {
   "cell_type": "code",
   "execution_count": null,
   "metadata": {},
   "outputs": [],
   "source": [
    "final_data_copy['Longitude'] = final_data_copy['Longitude'].str.replace(')','',regex=True)"
   ]
  },
  {
   "cell_type": "code",
   "execution_count": null,
   "metadata": {},
   "outputs": [],
   "source": [
    "#Changing the datatype of the latitude and longitude for visualization\n",
    "final_data_copy['Latitude']=final_data_copy['Latitude'].astype('float64')\n",
    "final_data_copy['Longitude']=final_data_copy['Longitude'].astype('float64')"
   ]
  },
  {
   "cell_type": "markdown",
   "metadata": {},
   "source": [
    "The new latitude and longitude values will be used for plotting the data on a map as to explore the risk behavior activities in different regions of the US. But before that we are going to segregate the data according the subtopics of Alcohol and other drugs usage. In the other drug usage subtopic we are choosing the greater risk responses related to marijuana, heroin and cocaine. We chose these three drugs because they are most commonly used drugs in the United States. Thus we are creating four different dataframes related to these four categories and plotting four different maps displaying the data of these risk behavior. "
   ]
  },
  {
   "cell_type": "code",
   "execution_count": null,
   "metadata": {},
   "outputs": [],
   "source": [
    "#Creating four dataframes with two subtopics and respective greater risk behavior questions which fit our analysis\n",
    "final_data_Alcohol = final_data_copy[final_data_copy['Subtopic'] =='Alcohol Use']\n",
    "final_data_Alcohol"
   ]
  },
  {
   "cell_type": "code",
   "execution_count": null,
   "metadata": {},
   "outputs": [],
   "source": [
    "final_data_Marijuana = final_data_copy[(final_data_copy['Subtopic'] =='Other Drug Use') & \n",
    "                                       (final_data_copy['Greater_Risk_Question']=='Currently used marijuana') | \n",
    "                                       (final_data_copy['Greater_Risk_Question']=='Ever used marijuana') | \n",
    "                                       (final_data_copy['Greater_Risk_Question']=='Tried marijuana for the first time before age 13 years')]\n",
    "final_data_Marijuana"
   ]
  },
  {
   "cell_type": "code",
   "execution_count": null,
   "metadata": {},
   "outputs": [],
   "source": [
    "final_data_Heroin = final_data_copy[(final_data_copy['Subtopic'] =='Other Drug Use') & (final_data_copy['Greater_Risk_Question']=='Ever used heroin')]\n",
    "final_data_Heroin"
   ]
  },
  {
   "cell_type": "code",
   "execution_count": null,
   "metadata": {},
   "outputs": [],
   "source": [
    "final_data_Cocaine = final_data_copy[(final_data_copy['Subtopic'] =='Other Drug Use') & (final_data_copy['Greater_Risk_Question']=='Ever used cocaine')]\n",
    "final_data_Cocaine"
   ]
  },
  {
   "cell_type": "code",
   "execution_count": null,
   "metadata": {},
   "outputs": [],
   "source": [
    "#Sorting the datset according to Year and location for smoother ploting of visualization\n",
    "final_data_Alcohol = final_data_Alcohol.sort_values(['YEAR','GeoLocation'])\n",
    "final_data_Marijuana = final_data_Marijuana.sort_values(['YEAR','GeoLocation'])\n",
    "final_data_Heroin = final_data_Heroin.sort_values(['YEAR','GeoLocation'])\n",
    "final_data_Cocaine = final_data_Cocaine.sort_values(['YEAR','GeoLocation'])"
   ]
  },
  {
   "cell_type": "markdown",
   "metadata": {},
   "source": [
    "Now we will group the data according to year and location to find out the average risk percentage for each state in each year. This would facilitate our analysis."
   ]
  },
  {
   "cell_type": "code",
   "execution_count": null,
   "metadata": {},
   "outputs": [],
   "source": [
    "#Finiding the average risk percentage of each activity for each state to plot a visualization\n",
    "avg_Alcohol = pd.DataFrame(final_data_Alcohol.groupby(by=['YEAR','GeoLocation','Latitude','Longitude','LocationAbbr'])['Greater_Risk_Data_Value'].mean())\n",
    "avg_Alcohol.reset_index(inplace=True)\n",
    "avg_Alcohol"
   ]
  },
  {
   "cell_type": "code",
   "execution_count": null,
   "metadata": {},
   "outputs": [],
   "source": [
    "avg_Marijuana = pd.DataFrame(final_data_Marijuana.groupby(by=['YEAR','GeoLocation','Latitude','Longitude','LocationAbbr'])['Greater_Risk_Data_Value'].mean())\n",
    "avg_Marijuana.reset_index(inplace=True)\n",
    "avg_Marijuana"
   ]
  },
  {
   "cell_type": "code",
   "execution_count": null,
   "metadata": {},
   "outputs": [],
   "source": [
    "avg_Heroin = pd.DataFrame(final_data_Heroin.groupby(by=['YEAR','GeoLocation','Latitude','Longitude','LocationAbbr'])['Greater_Risk_Data_Value'].mean())\n",
    "avg_Heroin.reset_index(inplace=True)\n",
    "avg_Heroin"
   ]
  },
  {
   "cell_type": "code",
   "execution_count": null,
   "metadata": {},
   "outputs": [],
   "source": [
    "avg_Cocaine = pd.DataFrame(final_data_Cocaine.groupby(by=['YEAR','GeoLocation','Latitude','Longitude','LocationAbbr'])['Greater_Risk_Data_Value'].mean())\n",
    "avg_Cocaine.reset_index(inplace=True)\n",
    "avg_Cocaine"
   ]
  },
  {
   "cell_type": "markdown",
   "metadata": {},
   "source": [
    "### Visualization and Analysis\n",
    "\n",
    "Since we have processed the data which is suitable for our visualization we will proceed further. We will be using density plot in the Plotly library in python to create our visualization. We chose this visualization because it would help us understand which states are at the most risk in which year. Also we can clearly compare risk percentage between different states in different years and see a trend of risk behavior in all states throughout the years. The density plot is like a heatmap which will show us the intensity of the risk in different areas of the US."
   ]
  },
  {
   "cell_type": "markdown",
   "metadata": {},
   "source": [
    "### Alcohol Usage Risk Map"
   ]
  },
  {
   "cell_type": "code",
   "execution_count": null,
   "metadata": {},
   "outputs": [],
   "source": [
    "#Using density plot to create a heatmap for Alcohol usage among youth in US for \n",
    "#understanding the intensity of the risk in those areas\n",
    "fig = px.density_mapbox(avg_Alcohol, lat='Latitude', lon='Longitude', radius=30, zoom=3,z='Greater_Risk_Data_Value',\n",
    "                        color_continuous_scale= px.colors.sequential.Viridis,\n",
    "                        mapbox_style=\"stamen-terrain\", animation_frame='YEAR', hover_name='LocationAbbr')\n",
    "\n",
    "fig.update_layout(\n",
    "        title = 'Alcohol Usage among youth in the different states of United States',\n",
    ")\n",
    "fig.show()"
   ]
  },
  {
   "cell_type": "markdown",
   "metadata": {},
   "source": [
    "### **`Observations-`**\n",
    "\n",
    "It can be seen here that the alcohol consumption is wide spread among youth in the United states. In the early 90s the alcohol consumption in youth was limited to some states but as we move ahead in time the consumption has been prevalant in various states, if not increasing. The risk percentage is reducing but the map is getting denser with time that could mean that the teenagers indulging in such activities are increasing but are not at high risk. The access to alcohol has become easier leading to an increase of youth participation in it. Although, the youth is just as much aware of the consequences of alcoholism.\n",
    "\n",
    "- If we compare the data from all states with one another the states on the East coast such as New York, New Jersey, Massachusetts, Maryland, Rhode Island and Denver are most prone to risk behavior resulting from alcohol. Overall for all states the intensity of the risk spiked in the year 2005 and continued until its decline after 2011. To be precise the risk value was consistently increasing after 2001. \n",
    "\n",
    "- The states on the west coast such as California and Nevada has consistent risk intensity of alcoholism throughout the years.  But one exception can be seen in the region near San Francisco and Los Angeles. The alcohol risk percentage was relatively low but the density of the risk increased by a good major after the year 2013.\n",
    "\n",
    "- The mid west as a whole has seen an increase in alcoholic risk behavior among youth. The early 90s had less density of alcohol risk behavior but as the years passed more and more mid-western teenagers indulged in this activity. The most percentage of teens at risk in this region was recorded in the year 2007 with Illinois having 56.229% of teenagers at risk. Just like the east coast the density of teenagers participating in the alcohol began increasing after 2001.\n",
    "\n",
    "- In the southern states the alcohol risk behavior has been prevalant throughout the years. The most density of the risk activity was observed in 2011 especially in Louisana with over 48.585% of teenagers at risk. Florida has risk activity related to alcoholism more than the rest of the souhtern states.\n"
   ]
  },
  {
   "cell_type": "markdown",
   "metadata": {},
   "source": [
    "### Marijuana Usage Risk Map"
   ]
  },
  {
   "cell_type": "code",
   "execution_count": null,
   "metadata": {},
   "outputs": [],
   "source": [
    "#Using density plot to create a heatmap for Marijuana usage among youth in US for \n",
    "#understanding the intensity of the risk in those areas\n",
    "\n",
    "fig = px.density_mapbox(avg_Marijuana, lat='Latitude', lon='Longitude', radius=30, zoom=3,z='Greater_Risk_Data_Value',\n",
    "                        color_continuous_scale= px.colors.sequential.Viridis,\n",
    "                        \n",
    "                        mapbox_style=\"stamen-terrain\", animation_frame='YEAR', hover_name='LocationAbbr')\n",
    "\n",
    "fig.update_layout(\n",
    "        title = 'Marijuana Usage among youth in the different states of United States',\n",
    ")\n",
    "fig.show()\n"
   ]
  },
  {
   "cell_type": "markdown",
   "metadata": {},
   "source": [
    "### **`Observations-`**\n",
    "\n",
    "Again here we can see that the states on the east coast have higher risk of teenagers using marijuana. The states on the west coast such as California and Nevada also have a high risk percentage of Marijuana usage among the youth. With the range of risk percentage changing from 5-30% to 10-50% the overall trend shows that the density of the teenage population indulging in marijuana has increased as well as the percentage of youth being at risk from it.\n",
    "\n",
    "- The marijuana usage among youth is pretty much present in all the states but the states in the mountain prairie and South West region such as South and North Dakota, Nebraska and Arizona are at the least risk. Except for Florida, the South western states are also at less risk from youth behavior related to marijuana abuse.\n",
    "\n",
    "- In the mid-west Illionois has the highest risk of marijuana related risk behavior among youth followed by Wisconsin and Michigan. The marijuana risk in Wisconcin seems to be increasing after the year 2001, the highest risk percentage recorded fo the state was in 2011 with about 37.27%. \n",
    "\n",
    "- 2011 is also the year when the risk values are the most dense over the entire United States."
   ]
  },
  {
   "cell_type": "markdown",
   "metadata": {},
   "source": [
    "### Heroin Usage Risk Map"
   ]
  },
  {
   "cell_type": "code",
   "execution_count": null,
   "metadata": {},
   "outputs": [],
   "source": [
    "#Using density plot to create a heatmap for Herion usage among youth in US for \n",
    "#understanding the intensity of the risk in those areas\n",
    "\n",
    "fig = px.density_mapbox(avg_Heroin, lat='Latitude', lon='Longitude', radius=30, zoom=3,z='Greater_Risk_Data_Value',\n",
    "                        color_continuous_scale=px.colors.sequential.Viridis,\n",
    "                        mapbox_style=\"stamen-terrain\", animation_frame='YEAR', hover_name='LocationAbbr')\n",
    "\n",
    "fig.update_layout(\n",
    "        title = 'Heroin Usage among youth in the different states of United States',)\n",
    "fig.show()"
   ]
  },
  {
   "cell_type": "markdown",
   "metadata": {},
   "source": [
    "### **`Observations-`**\n",
    "\n",
    "Even though the percentage of youth at risk due to Heroin isn't high but the there has been an increase of the said percentage throughout the years. The increement can be seen in the year 2009 when the range of greater risk percentage went upto 10%. Later it seems to have decreased but it hasn't come down to the percentage of risk it was at in 1999.\n",
    "\n",
    "- The states which are most prone to heroin usage among youth are New York, New Jersey, Maryland, Connecticet, New Hampshire, Pennsylvania, Delaware, Lousisana, Florida and California. \n",
    "\n",
    "- The year with the most density of heroin youth risk was observed in 2011 but there was a reduction in the percentage of teenagers at risk.\n",
    "\n",
    "- It is also observed that Hawaii also has had a steady rise of risk since 2013.\n",
    "\n",
    "- In the recent years there has been a rise in the heroin usage in certain regions of the United States which is alarming but after 2015 the risk percentage is going back down."
   ]
  },
  {
   "cell_type": "markdown",
   "metadata": {},
   "source": [
    "### Cocaine Usage Risk Map"
   ]
  },
  {
   "cell_type": "code",
   "execution_count": null,
   "metadata": {},
   "outputs": [],
   "source": [
    "#Using density plot to create a heatmap for Ecstasy usage among youth in US for \n",
    "#understanding the intensity of the risk in those areas\n",
    "\n",
    "fig = px.density_mapbox(avg_Cocaine, lat='Latitude', lon='Longitude', radius=30, zoom=3,z='Greater_Risk_Data_Value',\n",
    "                        color_continuous_scale=px.colors.sequential.Viridis,\n",
    "                        mapbox_style=\"stamen-terrain\", animation_frame='YEAR', hover_name='LocationAbbr')\n",
    "\n",
    "fig.update_layout(\n",
    "        title = 'Cocaine Usage among youth in the different states of United States')\n",
    "fig.show()"
   ]
  },
  {
   "cell_type": "markdown",
   "metadata": {},
   "source": [
    "### **`Observations-`**\n",
    "\n",
    "According to the datapoints present in our database the above map has been plotted. Over the years it is observed that the cocaine usage among youth is going up and down. This could be due to inconsistent data for cocaine drug abuse among youth. \n",
    "\n",
    "- In the year 2009 the most density of the risk is observed and 1997 has the highest risk percentage over the country. \n",
    "- The risk of cocaine has increasing in the South Eastern states of Florida, Texas, Louisana and Arkansas. \n",
    "- Unlike other activities there is some increase in cocaine related risk behavior in South Western state of Arizona.\n",
    "- Both East and west coast have similar percentages of the risk among youth.\n"
   ]
  },
  {
   "cell_type": "markdown",
   "metadata": {},
   "source": [
    "### **`Inferences-`**\n",
    "\n",
    "#### East Coast\n",
    "\n",
    "After looking through the observations it can be concluded that the states on the East coast are the most suseptable to risk behaviors related to alcohol and drug abuse. This could be due to the following reasons:\n",
    "- Densely populated states: The states with more population will more youth involving in these activities. As there is more population these regions are expensive leading to increased financial and mental health issues.\n",
    "- Metropolitan areas: States with more urban regions will have more risky activities among youth because alcohol and drugs are more accessible.\n",
    "- Progressive population\n",
    "- Closer to the coast: The import of illegal substances is much easier in these states leading to youth being exposed to it.\n",
    "- Mental health issues: Increase in such health issues among the adults could lead to weak relationships between parents and their teenage children.\n",
    "\n",
    "#### Florida\n",
    "\n",
    "Another region which has a significant risk of youth engaging in alcohol and drug abuse is Florida. The reasons for the same could be:\n",
    "- Closer to ports\n",
    "- Popular location for recreation\n",
    "- Major drug rings in the state (according to the findings [here](https://www.justice.gov/archive/ndic/pubs5/5169/overview.htm))\n",
    "- Less stringent laws and authority\n",
    "\n",
    "#### West Coast\n",
    "\n",
    "It was expected to find Nevada and California to high usage of marijuana usage among youth as marijuana was legalised in these states in 1996 and 2000 respectively.\n",
    "\n",
    "#### 2001 to 2005\n",
    "\n",
    "The alcohol usage risk among youth was increasing since the start of 2001 to 2005 on the East Coast and Mid-West. The cause for the surge in the risk could be due to the 9/11 incident. Undoutedly it shocked the whole nation but the youth in these regions would have been most effected. Many of them might have lost either of their parents in the incident causing them absolute despair. As seen in this [article](https://headsup.scholastic.com/students/scientists-find-a-connection-between-911-and-substance-abuse/#:~:text=There%20was%20also%20indication%20of,these%20substances%20before%209%2F11.) there was an increase in mental health diseases such PTSD leading to more alcohol usage and substance abuse."
   ]
  },
  {
   "cell_type": "markdown",
   "metadata": {},
   "source": [
    "### Who would benefit from the above analysis?\n",
    "\n",
    "The organisations that would benefit from the data would be:\n",
    "\n",
    "1. Drug enforcement authorities in high risk states\n",
    "2. Police can use the data to track down drug activities nean schools\n",
    "3. Rehabitalisation Centres\n",
    "4. Healthcare providers who handle drug abused patients\n",
    "5. Juvenile Detention Homes/ Youth Behavior correction centres\n"
   ]
  },
  {
   "cell_type": "code",
   "execution_count": null,
   "metadata": {},
   "outputs": [],
   "source": []
  },
  {
   "cell_type": "markdown",
   "metadata": {},
   "source": [
    "------------------------------"
   ]
  },
  {
   "cell_type": "markdown",
   "metadata": {},
   "source": [
    "### **`Which student demographics are susceptible to different substance abuse and sexual behaviors?`**"
   ]
  },
  {
   "cell_type": "markdown",
   "metadata": {},
   "source": [
    "#### **`Exploring the Dataset-`**\n",
    "- Here, we are first exploring the dataset, and looking if the \"LocationAbbr\" column has any duplicate values or not\n",
    "- Further, we are also cleaning the column with values that have inconsistencies to make it consistent.\n",
    "- Also we are looking into the Abbervations viz in the \"LocationAbbr\" column and also looking into their Descriptions to understand as in whether there was any given US state which was included or not in the dataset."
   ]
  },
  {
   "cell_type": "code",
   "execution_count": null,
   "metadata": {},
   "outputs": [],
   "source": [
    "#importing the dataset\n",
    "df = pd.read_csv (\"/Users/aayushgadia/Downloads/final_data.csv\")\n",
    "df.head()"
   ]
  },
  {
   "cell_type": "code",
   "execution_count": null,
   "metadata": {},
   "outputs": [],
   "source": [
    "#cleaning the dataset specially the LocationAbbr column\n",
    "print (df[\"LocationAbbr\"].unique())\n",
    "df[df[\"LocationAbbr\"].isna()][\"LocationDesc\"].unique()"
   ]
  },
  {
   "cell_type": "code",
   "execution_count": null,
   "metadata": {},
   "outputs": [],
   "source": [
    "#handling Navajo -> viz a missing LocationAbbr\n",
    "print (df[\"LocationAbbr\"].isnull().sum())\n",
    "df.loc[df[\"LocationAbbr\"].isnull(), \"LocationAbbr\"] = \"NA\"\n",
    "print (df[\"LocationAbbr\"].isnull().sum())\n",
    "print (len(df[\"LocationAbbr\"].unique()))\n",
    "print (sorted(df[\"LocationAbbr\"].unique()))"
   ]
  },
  {
   "cell_type": "code",
   "execution_count": null,
   "metadata": {},
   "outputs": [],
   "source": [
    "df[\"LocationAbbr\"].value_counts()"
   ]
  },
  {
   "cell_type": "code",
   "execution_count": null,
   "metadata": {},
   "outputs": [],
   "source": [
    "#there are location abbr where instances like \" CA\" & \"CA\" exists\n",
    "#fixing this manually\n",
    "\n",
    "replace_dict = {' CA':'CA',\n",
    "                ' CO':'CO',\n",
    "                ' FL':'FL',\n",
    "                ' GA':'GA',\n",
    "                ' IL':'IL',\n",
    "                ' LA':'LA',\n",
    "                ' MA':'MA',\n",
    "                ' MD':'MD',\n",
    "                ' MI':'MI', \n",
    "                ' NC':'NC',\n",
    "                ' NY':'NY', \n",
    "                ' OH':'OH',\n",
    "                ' PA':'PA', \n",
    "                ' TN':'TN',\n",
    "                ' TX':'TX', \n",
    "                ' WA':'WA', \n",
    "                ' WI':'WI'\n",
    "               }\n",
    "                \n",
    "df[\"LocationAbbr\"].replace(replace_dict, inplace=True)\n"
   ]
  },
  {
   "cell_type": "code",
   "execution_count": null,
   "metadata": {},
   "outputs": [],
   "source": [
    "print (df[\"LocationAbbr\"].unique())\n",
    "print (len(df[\"LocationAbbr\"].unique()))"
   ]
  },
  {
   "cell_type": "code",
   "execution_count": null,
   "metadata": {},
   "outputs": [],
   "source": [
    "df[df[\"LocationAbbr\"]==\"CK\"][\"LocationDesc\"]\n",
    "\n",
    "#in USA -> 57 states\n",
    "#https://www.faa.gov/air_traffic/publications/atpubs/cnt_html/appendix_a.html\n",
    "#NA -> Navajo\n",
    "#MH -> Marshall Islands\n",
    "#AZB -> Arizona\n",
    "#MP -> Northern Mariana Islands\n",
    "#DCB -> District of Columbia\n",
    "\n",
    "#Islands -> \n",
    "#MH -> Marshall Islands\n",
    "#MP -> Northern Mariana Islands\n",
    "\n",
    "#Tribes\n",
    "#CK -> Cherokee Nation\n",
    "#NZ -> Nez Perce"
   ]
  },
  {
   "cell_type": "code",
   "execution_count": null,
   "metadata": {},
   "outputs": [],
   "source": [
    "#fixing the values of XX\n",
    "#drop the instances where \"XX\" exists\n",
    "\n",
    "print (len(df[df[\"LocationAbbr\"]==\"XX\"])) #-> 5826 entries\n",
    "print (len(df))\n",
    "df.drop(df[df[\"LocationAbbr\"]==\"XX\"].index, inplace=True)\n",
    "print (len(df))\n"
   ]
  },
  {
   "cell_type": "code",
   "execution_count": null,
   "metadata": {},
   "outputs": [],
   "source": [
    "len(df[\"LocationAbbr\"].unique())"
   ]
  },
  {
   "cell_type": "code",
   "execution_count": null,
   "metadata": {},
   "outputs": [],
   "source": [
    "df[\"Race\"].unique()"
   ]
  },
  {
   "cell_type": "code",
   "execution_count": null,
   "metadata": {},
   "outputs": [],
   "source": [
    "df.head()"
   ]
  },
  {
   "cell_type": "markdown",
   "metadata": {},
   "source": [
    "#### **`Data Processing for Decision Tree-`**\n",
    "- Here, firstly we are slicing the entire data frame, and diving into three different dataframes, one for alchocol, tobacco, and sexual behaviours.\n",
    "- We are further then grouping the entire dataset on 'LocationAbbr', 'Sex', 'Race', 'Grade', and aggregating the 'Greater_Risk_Data_Value', so that for the combination of 'LocationAbbr', 'Sex', 'Race', 'Grade', we will have a 'Greater_Risk_Data_Value' score.\n",
    "- Further, to use the data for the decision tree, we will process the data and put dummies & each of our independent variables like 'LocationAbbr', 'Sex', 'Race', 'Grade', we will convert them into numerical categorical variables, so that we can pass them through the Decision Tree model"
   ]
  },
  {
   "cell_type": "code",
   "execution_count": null,
   "metadata": {},
   "outputs": [],
   "source": [
    "#just slice the data now -> different for each of the types\n",
    "alchohol_df = df[df[\"Topic\"] == 'Alcohol and Other Drug Use']\n",
    "tobacco_df = df[df[\"Topic\"] == 'Tobacco Use']\n",
    "sexb_df = df[df[\"Topic\"] == 'Sexual Behaviors']"
   ]
  },
  {
   "cell_type": "code",
   "execution_count": null,
   "metadata": {},
   "outputs": [],
   "source": [
    "sexb_df[\"Greater_Risk_Question\"].unique()"
   ]
  },
  {
   "cell_type": "code",
   "execution_count": null,
   "metadata": {},
   "outputs": [],
   "source": [
    "alchohol_df[\"Greater_Risk_Question\"].unique()"
   ]
  },
  {
   "cell_type": "code",
   "execution_count": null,
   "metadata": {},
   "outputs": [],
   "source": [
    "tobacco_df[\"Greater_Risk_Question\"].unique()"
   ]
  },
  {
   "cell_type": "code",
   "execution_count": null,
   "metadata": {},
   "outputs": [],
   "source": [
    "#group the data, aggregate on the greater risk data value (remove year entirely)\n",
    "alchohol_grouped_df = alchohol_df.groupby([\"LocationAbbr\", \"Sex\", \"Race\", \"Grade\"]).aggregate({'Greater_Risk_Data_Value':'mean'})\n",
    "\n",
    "tobacco_grouped_df = tobacco_df.groupby([\"LocationAbbr\", \"Sex\", \"Race\", \"Grade\"]).aggregate({'Greater_Risk_Data_Value':'mean'})\n",
    "sexb_grouped_df = sexb_df.groupby([\"LocationAbbr\", \"Sex\", \"Race\", \"Grade\"]).aggregate({'Greater_Risk_Data_Value':'mean'})\n",
    "\n",
    "alchohol_grouped_df\n"
   ]
  },
  {
   "cell_type": "code",
   "execution_count": null,
   "metadata": {},
   "outputs": [],
   "source": [
    "#reset the index to change the transform group indexes to columns\n",
    "alchohol_grouped_df_2 = alchohol_grouped_df.reset_index()\n",
    "tobacco_df_2 = tobacco_grouped_df.reset_index()\n",
    "sexb_df_2 = sexb_grouped_df.reset_index()\n",
    "\n",
    "print (alchohol_grouped_df_2.columns)\n",
    "alchohol_grouped_df_2.head()\n"
   ]
  },
  {
   "cell_type": "code",
   "execution_count": null,
   "metadata": {},
   "outputs": [],
   "source": [
    "#now apply the decision tree \n",
    "#here, use decision regressor, since we are kind of not classifying the values here\n",
    "#here, now create the decision tree -> first for alchohol dataset\n",
    "\n",
    "features = ['LocationAbbr', 'Sex', 'Race', 'Grade']\n",
    "\n",
    "# X = alchohol_grouped_df_2[features]\n",
    "# Y = alchohol_grouped_df_2['Greater_Risk_Data_Value']\n",
    "\n",
    "\n",
    "#for decision tree to work, convert the strings to float, instead make dummy value for it\n",
    "x = alchohol_grouped_df_2.loc[:,['Sex', 'Grade', 'Race', 'LocationAbbr']]\n",
    "ohe = pd.get_dummies(x[['Sex', 'Grade', 'Race', 'LocationAbbr']])\n",
    "ohe.head()"
   ]
  },
  {
   "cell_type": "code",
   "execution_count": null,
   "metadata": {},
   "outputs": [],
   "source": [
    "x = pd.concat([x,ohe],axis=1)\n",
    "x.head()"
   ]
  },
  {
   "cell_type": "code",
   "execution_count": null,
   "metadata": {},
   "outputs": [],
   "source": [
    "x.drop(columns=['Sex', 'Grade', 'Race', 'LocationAbbr'],inplace=True) #this is same as ohe variable\n",
    "x.head()"
   ]
  },
  {
   "cell_type": "code",
   "execution_count": null,
   "metadata": {},
   "outputs": [],
   "source": [
    "y = alchohol_grouped_df_2.loc[:,'Greater_Risk_Data_Value']\n",
    "y.head()"
   ]
  },
  {
   "cell_type": "code",
   "execution_count": null,
   "metadata": {},
   "outputs": [],
   "source": [
    "print (x.shape, y.shape)"
   ]
  },
  {
   "cell_type": "markdown",
   "metadata": {},
   "source": [
    "#### **`Decision Tree Implementation-`**\n",
    "- Here, we are using Decision Tree so that with Decision Tree we can identify as in which student demographic is more suspectible to substance abuse irrespective of the year. So here, we are using DecisionTree for Regression since we are kind of finding what the values are for different decision, we are not doing any classification or so here, so we will not be using Decision Tree Classifier.\n",
    "\n",
    "- Further, here, we are also not dividing the dataset into training & test dataset as that is not required here, as we are simply trying to understand the path where most of the students would be most suspectible to student abuse, and we are not making any predictions or so here.\n",
    "\n",
    "- Further, we have several parameters like **`max_depth`** , **`min_samples_split`** & **`min_samples_leaf`**, so here we have chosen **`max_depth`** as 7, the more we increase the value of it, the more our tree will keep increasing, and the results with a pattern we were getting in **`max_depth`** of 7 was same as that of 20, so we chose 7. \n",
    "\n",
    "- Further, **`min_samples_split`** value that we have set here is 2, and the **`min_samples_leaf`** value that we have set here is 1, so if we see then what we did above was we grouped the data based on these values -> [\"LocationAbbr\", \"Sex\", \"Race\", \"Grade\"], so if we see that before grouping or the grouping that is happening is basically considering a lot of values and then taking an aggregation of it. So each of the sample viz in the dataframe after grouping, had itself 5 or 6 or > 1 values in their observations before grouping. So this is reason after trying out with multiple values we decided to choose the values of 2 & 1 for **`min_samples_split`** & **`min_samples_leaf`**"
   ]
  },
  {
   "cell_type": "code",
   "execution_count": null,
   "metadata": {},
   "outputs": [],
   "source": [
    "#change the depth to see which one might be better\n",
    "#try 2, 5, 7, 10\n",
    "\n",
    "regr_1 = DecisionTreeRegressor(max_depth=7,\n",
    "                               min_samples_split=2,\n",
    "                               min_samples_leaf=1\n",
    "                              )\n",
    "regr_1.fit(x, y)\n",
    "\n",
    "#!pip install graphviz"
   ]
  },
  {
   "cell_type": "code",
   "execution_count": null,
   "metadata": {},
   "outputs": [],
   "source": [
    "#visualizing the regressor made\n",
    "\n",
    "# tree.export_graphviz(regr_2,\n",
    "#                      feature_names = x.columns, \n",
    "#                      filled = True)\n",
    "\n",
    "graph = Source(tree.export_graphviz (regr_1, \n",
    "                                     out_file=None, \n",
    "                                     feature_names=x.columns,\n",
    "                                     filled=True))\n",
    "# graph.format = 'png'\n",
    "# graph.render('dtree_render',view=True)\n",
    "\n",
    "png_bytes = graph.pipe(format='png')\n",
    "with open('alchohol_dtree_7.png','wb') as f:\n",
    "    f.write(png_bytes)\n",
    "\n",
    "from IPython.display import Image\n",
    "Image(png_bytes)\n",
    "\n",
    "#(value N1 + value N2)/2 = value of parent of N1 & N2\n",
    "#(samples N1 + samples N2) = samples of parent of N1 & N2\n"
   ]
  },
  {
   "cell_type": "markdown",
   "metadata": {},
   "source": [
    "#### **`Insights from the Alchohol Dataset & Steps to be Taken to Control the Alcohol Consumption Rise-`**\n",
    "It is observed from the Decision Tree above, that in state of **Alaska (\"AK\")** students who are in the **12th Grade and are Male**, are **more suspectible to higher Alchohol Consumption and Drug Abuse with a Risk Value of 33.445 %**. Further, we observe that in the state of **California (\"CA\")** students in the **12th Grade and are Male** are **more suspectible to higher Alchohol Consumption and Drug Abuse with a Risk Value of 30.166 %.**\n",
    "\n",
    "The **government of these states, can take the following strategies to control the rise of alchohol consumption-**\n",
    "- *It can increase the taxes on alchohol, so that people will refrain from buying it.*\n",
    "- *Regulations and Restrictions can be increased on the numbers and concentration of alchohol stores, so that accessibility is reduced.*\n",
    "- *Laws should be enforced where the shopkeepers are prohibited to sell alchohol to youth.*\n",
    "- *Implementing commercial host liability laws, which hold liquor establishments legally responsible for any harm caused by or to minors to whom they have sold alcohol.*\n",
    "- *Developing community partnerships among schools, law enforcement, health care and public health agencies to prevent excessive alcohol use, and government can have partnerships with the institutions to ensure that awareness around the side effects of excessive alchohol consumption is shared among the youths.*\n",
    "\n"
   ]
  },
  {
   "cell_type": "code",
   "execution_count": null,
   "metadata": {},
   "outputs": [],
   "source": [
    "#here, now create the decision tree -> tobacco dataset\n",
    "\n",
    "x = tobacco_df_2.loc[:,['Sex', 'Grade', 'Race', 'LocationAbbr']]\n",
    "ohe = pd.get_dummies(x[['Sex', 'Grade', 'Race', 'LocationAbbr']])\n",
    "ohe.head()\n",
    "\n",
    "x = pd.concat([x,ohe],axis=1)\n",
    "x.head()\n",
    "\n",
    "x.drop(columns=['Sex', 'Grade', 'Race', 'LocationAbbr'],inplace=True) #this is same as ohe variable\n",
    "x.head()\n",
    "\n",
    "y = tobacco_df_2.loc[:,'Greater_Risk_Data_Value']\n",
    "y.head()\n",
    "\n",
    "regr_1 = DecisionTreeRegressor(max_depth=7, \n",
    "                               min_samples_split=2,\n",
    "                               min_samples_leaf=1\n",
    "                              )\n",
    "regr_1.fit(x, y)\n",
    "\n",
    "graph = Source(tree.export_graphviz (regr_1, \n",
    "                                     out_file=None, \n",
    "                                     feature_names=x.columns,\n",
    "                                     filled=True))\n",
    "\n",
    "png_bytes = graph.pipe(format='png')\n",
    "with open('tobacco_dtree_7.png','wb') as f:\n",
    "    f.write(png_bytes)\n",
    "\n",
    "from IPython.display import Image\n",
    "Image(png_bytes)\n"
   ]
  },
  {
   "cell_type": "markdown",
   "metadata": {
    "tags": []
   },
   "source": [
    "#### **`Insights from the Tobacco Dataset & Steps to be Taken to Control the Tobacco Consumption Rise-`**\n",
    "\n",
    "- It is observed from the Decision Tree above, that in the state of **Louisiana (\"LA\")** students who are **Female, White in Race, and are in 12th Grade**, are **more suspectible to higher Tobacco Consumption with a Risk Value of 51.991%, also the same trend is observed in Males too with the Risk Value being of 44.683%.** \n",
    "\n",
    "- As per the sources [here](https://www.nola.com/news/healthcare_hospitals/louisiana-spends-less-than-3-of-tobacco-revenue-on-anti-smoking-programs-earning-failing-grades/article_b2109850-49f6-11ea-b8c2-0f9482e1ea21.html), **we can say that Louisana spends less than 3% of tobacco revenue on Anti-Smoking programs, and it should focus more on its Anti-Smoking programs and this might increase awareness among the youth to reduce the tobacco consumption.**\n",
    "\n",
    "- Also, we observe that in the state of **Washington (\"WA\")** students who are **Male, \"White\" or \"Native Hawaiian or Other Pacific Islander\" in Race, and are not in 12th Grade (implying being either in 9th / 10th / 11th Grade)**, are **more suspectible to higher Tobacco Consumption with a Risk Value of 53.168%.**\n",
    "\n",
    "- As per the sources [here](https://doh.wa.gov/you-and-your-family/tobacco/prevention), **we can say that the Washington state government can take the following steps to prevent youth from using tobacco and avoid a lifetime of addiction among youths-**\n",
    "\n",
    "    * *It can introduce Laws that reduce the ability of the youth to get tobacco.* <br>\n",
    "    * *Start taxing the tobacco heavily so that tobacco becomes more costly.*<br>\n",
    "    * *Start introducing stricter school policies about the use of tobacco, so that students are observed and strict action is taken against them, if they flout the rules.*<br>\n",
    "    * *Spreading awareness among the youths about the risk and consequences of using Tobacco.*<br>\n",
    "    "
   ]
  },
  {
   "cell_type": "code",
   "execution_count": null,
   "metadata": {},
   "outputs": [],
   "source": [
    "#here, now create the decision tree -> sexual behaviours\n",
    "\n",
    "x = sexb_df_2.loc[:,['Sex', 'Grade', 'Race', 'LocationAbbr']]\n",
    "ohe = pd.get_dummies(x[['Sex', 'Grade', 'Race', 'LocationAbbr']])\n",
    "ohe.head()\n",
    "\n",
    "x = pd.concat([x,ohe],axis=1)\n",
    "x.head()\n",
    "\n",
    "x.drop(columns=['Sex', 'Grade', 'Race', 'LocationAbbr'],inplace=True) #this is same as ohe variable\n",
    "x.head()\n",
    "\n",
    "y = sexb_df_2.loc[:,'Greater_Risk_Data_Value']\n",
    "y.head()\n",
    "\n",
    "regr_1 = DecisionTreeRegressor(max_depth=7, \n",
    "                               min_samples_split=2,\n",
    "                               min_samples_leaf=1\n",
    "                              )\n",
    "regr_1.fit(x, y)\n",
    "\n",
    "graph = Source(tree.export_graphviz (regr_1, \n",
    "                                     out_file=None, \n",
    "                                     feature_names=x.columns,\n",
    "                                     filled=True))\n",
    "\n",
    "png_bytes = graph.pipe(format='png')\n",
    "with open('sexb_dtree_7.png','wb') as f:\n",
    "    f.write(png_bytes)\n",
    "\n",
    "from IPython.display import Image\n",
    "Image(png_bytes)\n"
   ]
  },
  {
   "cell_type": "markdown",
   "metadata": {},
   "source": [
    "#### **`Insights from the Sexual Behaviours Dataset & Steps to be Taken to Control the Unhealthy Sexual Behaviour in Youths-`**\n",
    "\n",
    "- Overall, it is observed from the Decision Tree above, that in the state of **Utah (UT)** students who are in any of the grades **from 9th to 12th, and are of any of the genders be it Male or Female; are more suspectible to higher Unhealthy Sexual Behaviour with a Risk Value being of at least 88.085%.**\n",
    "\n",
    "- As per the sources [here](https://centerforhealthjournalism.org/fellowships/projects/healthy-whom-teen-std-rates-soar-salt-lake-citys-west-side), **it seems that in Utah people are more conservative and it is due to this reason people engage in Unhealth Sexual Behaviours. As per CDC, there is insufficient evidence to show that there are not enough programs that promote abstinence and mention failure rates of condoms prevent STDs and pregnancy, and in Utah public school it is observed that it restricts the health educators to say about preventing these diseases, and State law says that they can't encourage people to use condoms and even the State Laws fear mentioning contraception; this clearly depicts conservatiness in the state.**\n",
    "\n"
   ]
  },
  {
   "cell_type": "markdown",
   "metadata": {},
   "source": [
    "----------------"
   ]
  },
  {
   "cell_type": "markdown",
   "metadata": {},
   "source": [
    "### Does excessive alcohol/drug abuse lead to higher chances of sexually transmitted diseases among high school students?\n",
    "\n",
    "Sometimes it is observed that one health risk is responsible for other risks. We try to analyze and find out if excessive alcohol/drug abuse in students also leads to the increased chance of sexually transmitted diseases. For this analysis we build up a comparison between the two health risks - 'Alcohol and Other Drug Use' and certain survey questions in 'Sexual Behaviors' whose responses might lead to the transmission of sexual diseases. \n",
    "The subtopics in the health risk 'Sexual Behaviors' identified that are related to alcohol and drug usage or may lead to STDs are: \n",
    "* Drank alcohol or used drugs before last sexual intercourse \n",
    "* Did not use a condom during last sexual intercourse\n",
    "* Were never tested for human immunodeficiency virus (HIV) \n",
    "* Did not use both a condom during last sexual intercourse and birth control pills; an IUD (e.g., Mirena or ParaGard) or implant (e.g., Implanon or Nexplanon); or a shot (e.g., Depo-Provera), patch (e.g., OrthoEvra), or birth control ring (e.g., NuvaRing) before last sexual intercourse\n",
    "\n",
    "\n",
    "\n"
   ]
  },
  {
   "cell_type": "code",
   "execution_count": null,
   "metadata": {},
   "outputs": [],
   "source": [
    "# Creating a dataframe for alcohol and drug use data.\n",
    "alcohol_data = all_data[all_data['Topic'] =='Alcohol and Other Drug Use']\n",
    "alcohol_data.reset_index(inplace = True)\n",
    "alcohol_data = alcohol_data.copy()\n",
    "alcohol_data['Demographic'] = alcohol_data['StratID1'] + alcohol_data['StratID2'] + alcohol_data['StratID3']\n",
    "alcohol_data = alcohol_data[['YEAR','LocationDesc','Demographic','Greater_Risk_Data_Value']]\n",
    "alcohol_data = alcohol_data[alcohol_data['Greater_Risk_Data_Value']>=40]\n",
    "alcohol_data = alcohol_data.set_index(keys=['YEAR','LocationDesc','Demographic']).sort_index(level=[0,1,2])\n",
    "alcohol_data = alcohol_data.groupby(level=[0,1,2]).mean()"
   ]
  },
  {
   "cell_type": "code",
   "execution_count": null,
   "metadata": {},
   "outputs": [],
   "source": [
    "# Creating a dataframe for sexual behavior data.\n",
    "sexual_behaviour_data = all_data[all_data['Topic'] =='Sexual Behaviors']\n",
    "sexual_behaviour_data = sexual_behaviour_data[(sexual_behaviour_data['Greater_Risk_Question'] == 'Drank alcohol or used drugs before last sexual intercourse') | (sexual_behaviour_data['Greater_Risk_Question'] == 'Did not use a condom during last sexual intercourse') | (sexual_behaviour_data['Greater_Risk_Question'] == 'Were never tested for human immunodeficiency virus (HIV)') | (sexual_behaviour_data['Greater_Risk_Question'] == 'Did not use both a condom during last sexual intercourse and birth control pills; an IUD (e.g., Mirena or ParaGard) or implant (e.g., Implanon or Nexplanon); or a shot (e.g., Depo-Provera), patch (e.g., OrthoEvra), or birth control ring (e.g., NuvaRing) before last sexual intercourse')]                                    \n",
    "sexual_behaviour_data.reset_index(inplace = True)\n",
    "sexual_behaviour_data = sexual_behaviour_data.copy()\n",
    "sexual_behaviour_data['Demographic'] = sexual_behaviour_data['StratID1'] + sexual_behaviour_data['StratID2'] + sexual_behaviour_data['StratID3']\n",
    "sexual_behaviour_data = sexual_behaviour_data[['YEAR','LocationDesc','Demographic','Greater_Risk_Data_Value']]\n",
    "sexual_behaviour_data = sexual_behaviour_data[sexual_behaviour_data['Greater_Risk_Data_Value']>=40]\n",
    "sexual_behaviour_data = sexual_behaviour_data.set_index(keys=['YEAR','LocationDesc','Demographic']).sort_index(level=[0,1,2])\n",
    "sexual_behaviour_data = sexual_behaviour_data.groupby(level=[0,1,2]).mean()"
   ]
  },
  {
   "cell_type": "markdown",
   "metadata": {},
   "source": [
    "### Factors included for analysis\n",
    "For finding a correlation between alcohol/drug usage and STDs, we consider 3 factors.\n",
    "* First create a new variable that is a combination of the 'Sex', 'Race' and 'Grade' variables. This new variable will help us uniquely determine a particular demographic.<br>\n",
    "* Another factor we take into consideration is the risk factor called 'Greater_Risk_Data_Value'. The government and health agencies will try to cater to demographics with a higher Greater_Risk_Data_Value percentage. <br>\n",
    "*  To identify such values, we consider all the greater risk data points that have Greater_Risk_Data_Value > 40. Now, the third factor is that across all the risk questions, we take the mean of the greater risk value as it would most appropriately represent the risk percentage across all the risk questions asked to student groups.<br>\n",
    "**How the comparison is made** : As we aim to find if higher alcohol/drug usage leads to higher percentage of STDs in students, we need to make the comparisons between same demographics. To make this possible we include only those demographics that have answered survey questions related to both alcohol/drug use and sexual behaviors. Grouping the data with respect to the year then the location and then the demographic is required. "
   ]
  },
  {
   "cell_type": "code",
   "execution_count": null,
   "metadata": {},
   "outputs": [],
   "source": [
    "# Merging both the dataframes based on the Year and demographic\n",
    "risk_data = pd.merge(alcohol_data, sexual_behaviour_data, left_index=True, right_index=True, how='inner', suffixes=('','_new'))\n",
    "risk_data.rename(columns = {'Greater_Risk_Data_Value':'Risk_Value_Alcohol_Usage','Greater_Risk_Data_Value_new':'Risk_Value_Sexual_Behavior'}, inplace = True)\n",
    "risk_data.reset_index(inplace = True)\n",
    "risk_data = risk_data[['YEAR','LocationDesc','Demographic','Risk_Value_Alcohol_Usage','Risk_Value_Sexual_Behavior']]\n"
   ]
  },
  {
   "cell_type": "code",
   "execution_count": null,
   "metadata": {},
   "outputs": [],
   "source": [
    "# Analyzing the data between the years 2012 and 2017\n",
    "risk_data = risk_data[(risk_data['YEAR']>=2012) & (risk_data['YEAR']<=2017 )] \n",
    "risk_data = risk_data.drop('YEAR', axis=1)\n",
    "risk_data.set_index('Demographic', inplace = True)\n",
    "risk_data = risk_data.groupby(level=[0]).mean()\n",
    "risk_data.head()"
   ]
  },
  {
   "cell_type": "code",
   "execution_count": null,
   "metadata": {},
   "outputs": [],
   "source": [
    "# Creating a correlation matrix to understand correlation between risk value of alcohol/drug usage and sexual behaviors    \n",
    "risk_data.corr()"
   ]
  },
  {
   "cell_type": "code",
   "execution_count": null,
   "metadata": {},
   "outputs": [],
   "source": [
    "# Creating a line plot\n",
    "fig = px.line(risk_data, x=risk_data.index,y=['Risk_Value_Sexual_Behavior','Risk_Value_Alcohol_Usage'],\n",
    "             title = 'A comparison of risk values in Sexual Behaviour and Alcohol and Drug use') \n",
    "fig.add_annotation(text='S7: Female <br>S8: Male<br> <br>R10: American Indian or Alaskan<br>R11: Asian<br>R12: Black or African American<br>R13: Hispanic or Latino<br>R14: Native Hawaiian <br>R15: White<br>R16: Multiple Race<br><br>G2: Grade 9 <br>G3: Grade 10<br>G4: Grade 11 <br>G5: Grade 12', \n",
    "                    align='left',\n",
    "                    showarrow=False,\n",
    "                    xref='paper',\n",
    "                    yref='paper',\n",
    "                    x=1.34,\n",
    "                    y=0.8\n",
    "                    )\n",
    "fig.update_layout(\n",
    "    xaxis_title='Demographic', yaxis_title='Percentage'\n",
    ")\n",
    "fig.show()"
   ]
  },
  {
   "cell_type": "markdown",
   "metadata": {},
   "source": [
    "### Observation and Inferences from the plot\n",
    "After plotting the line graph between risk percentages of sexual behaviors and alcohol/drug use, we observe three main points. They are:\n",
    "1. Risk percentages in demographics for sexual behavior are a lot higher than the risk percentages in the same demographics for risks related to alcohol/drug use.\n",
    "2. The trend lines for sexual behavior and alcohol/drug use do not follow the same pattern.\n",
    "3. For few demographics we observe the percentages move together (Examples: S7R11G5, S7R13G3 and S8R14G2) but for a lot of them they don't.\n",
    "\n",
    "Respective inferences: \n",
    "1. High schoolers are more susceptable to STDs than they are to alcohol and other drug use.\n",
    "2. Risky sexual behavior and alcohol/drug usage might not be closely related.\n",
    "3. Students who are involved in alcohol and other drug use are not necessarily involved in risky sexual behavior.\n",
    "\n",
    "What we can conclude: \n",
    "1. This data is very important to the government and disease control and prevention agencies. This analysis highlights that the agencies need to focus on working towards each and every risk. Only catering to one health risk would not have an impact on other risks, as we have observed from our analysis, the risks do not show any particular cascading effect. \n",
    "\n",
    "2. As the risk percentage of unhealthy sexual behavior observed was very high compared to risk of alcohol and drug use, this prompts us to perform a high-level analysis to find out how the risks compare to each other and which risk poses the biggest threat to the youth."
   ]
  },
  {
   "cell_type": "code",
   "execution_count": null,
   "metadata": {},
   "outputs": [],
   "source": [
    "# Creating a dataframe related to risk percentage for tobacco usage\n",
    "tobacco_data = all_data[all_data['Topic'] =='Tobacco Use']\n",
    "tobacco_data.reset_index(inplace = True)\n",
    "tobacco_data = tobacco_data.copy()\n",
    "tobacco_data['Demographic'] = tobacco_data['StratID1'] + tobacco_data['StratID2'] + tobacco_data['StratID3']\n",
    "tobacco_data = tobacco_data[['LocationDesc','Demographic','Greater_Risk_Data_Value']]\n",
    "tobacco_data = tobacco_data.set_index(keys=['LocationDesc','Demographic']).sort_index(level=[0,1])\n",
    "tobacco_data = tobacco_data.groupby(level=[0,1]).mean()"
   ]
  },
  {
   "cell_type": "code",
   "execution_count": null,
   "metadata": {},
   "outputs": [],
   "source": [
    "# Creating a dataframe related to risk percentage of alcohol and drug usage \n",
    "alcohol_data = all_data[all_data['Topic'] =='Alcohol and Other Drug Use']\n",
    "alcohol_data.reset_index(inplace = True)\n",
    "alcohol_data = alcohol_data.copy()\n",
    "alcohol_data['Demographic'] = alcohol_data['StratID1'] + alcohol_data['StratID2'] + alcohol_data['StratID3']\n",
    "alcohol_data = alcohol_data[['LocationDesc','Demographic','Greater_Risk_Data_Value']]\n",
    "alcohol_data = alcohol_data.set_index(keys=['LocationDesc','Demographic']).sort_index(level=[0,1])\n",
    "alcohol_data = alcohol_data.groupby(level=[0,1]).mean()"
   ]
  },
  {
   "cell_type": "code",
   "execution_count": null,
   "metadata": {},
   "outputs": [],
   "source": [
    "# Creating a dataframe related to risk percentage of sexual behaviors\n",
    "sexual_behaviour_data = all_data[all_data['Topic'] =='Sexual Behaviors']\n",
    "sexual_behaviour_data.reset_index(inplace = True)\n",
    "sexual_behaviour_data = sexual_behaviour_data.copy()\n",
    "sexual_behaviour_data['Demographic'] = sexual_behaviour_data['StratID1'] + sexual_behaviour_data['StratID2'] + sexual_behaviour_data['StratID3']\n",
    "sexual_behaviour_data = sexual_behaviour_data[['LocationDesc','Demographic','Greater_Risk_Data_Value']]\n",
    "sexual_behaviour_data = sexual_behaviour_data.set_index(keys=['LocationDesc','Demographic']).sort_index(level=[0,1])\n",
    "sexual_behaviour_data = sexual_behaviour_data.groupby(level=[0,1]).mean()"
   ]
  },
  {
   "cell_type": "code",
   "execution_count": null,
   "metadata": {},
   "outputs": [],
   "source": [
    "# Join dataframes data based on location and demographic\n",
    "risk_data = alcohol_data.merge(sexual_behaviour_data,left_index=True, right_index=True, how='inner', suffixes=('','_sb')).merge(tobacco_data,left_index=True, right_index=True, how='inner', suffixes=('','_tu'))\n",
    "risk_data"
   ]
  },
  {
   "cell_type": "code",
   "execution_count": null,
   "metadata": {},
   "outputs": [],
   "source": [
    "# Group the data with location\n",
    "risk_data.rename(columns = {'Greater_Risk_Data_Value':'Risk_Value_Alcohol_Usage','Greater_Risk_Data_Value_sb':'Risk_Value_Sexual_Behavior','Greater_Risk_Data_Value_tu':'Risk_Value_Tobacco_Use'}, inplace = True)\n",
    "risk_data.reset_index(inplace = True)\n",
    "risk_data = risk_data.drop('Demographic', axis=1)\n",
    "risk_data.set_index('LocationDesc', inplace = True)\n",
    "risk_data = risk_data.groupby(level=[0]).mean()"
   ]
  },
  {
   "cell_type": "code",
   "execution_count": null,
   "metadata": {},
   "outputs": [],
   "source": [
    "risk_data.head(10)"
   ]
  },
  {
   "cell_type": "markdown",
   "metadata": {},
   "source": [
    "### Analysis to determine the biggest threat to the youth\n",
    "As our previous analysis suggested unhealthy sexual behavior was quite greater than alcohol and drug use in high school students, we perform a high-level analysis to determine the biggest threat to the high schoolers. As the data contained millions of observations across many years,regions and demographics, a high-level view of the data would be highly insightful. The results help in understanding the biggest risk that contributes to the leading causes of illness or even death in some cases among youth and young adults.\n",
    "\n"
   ]
  },
  {
   "cell_type": "code",
   "execution_count": null,
   "metadata": {},
   "outputs": [],
   "source": [
    "# Plot a bar graph to visualize the biggest risk in youth\n",
    "risk_labels = ['Alcohol & Drug Use ','Sexual Behavior','Tobacco Use']\n",
    "fig = px.bar(risk_data, x=risk_labels, y=[risk_data['Risk_Value_Alcohol_Usage'].mean(),risk_data['Risk_Value_Sexual_Behavior'].mean(),risk_data['Risk_Value_Tobacco_Use'].mean()]\n",
    "            ,width = 600\n",
    "            ,title = 'Percentage of at-risk youth by risk category'\n",
    "            ,color=[risk_data['Risk_Value_Alcohol_Usage'].mean(),risk_data['Risk_Value_Sexual_Behavior'].mean(),risk_data['Risk_Value_Tobacco_Use'].mean()]\n",
    "            ,color_continuous_scale=px.colors.sequential.YlOrRd\n",
    "            ,range_color=(0,50)\n",
    "            ,text=[str(round(risk_data['Risk_Value_Alcohol_Usage'].mean(),2))+'%',\n",
    "                   str(round(risk_data['Risk_Value_Sexual_Behavior'].mean(),2))+'%',\n",
    "                   str(round(risk_data['Risk_Value_Tobacco_Use'].mean(),2))+'%']\n",
    "           ,animation_group=[risk_data['Risk_Value_Alcohol_Usage'].mean(),risk_data['Risk_Value_Sexual_Behavior'].mean(),risk_data['Risk_Value_Tobacco_Use'].mean()]\n",
    "             )\n",
    "\n",
    "fig.update_layout(\n",
    "    \n",
    "    xaxis_title='Risk Category', yaxis_title='Percentage',xaxis={'categoryorder':'total descending'})\n",
    "\n",
    "\n",
    "fig.update_traces(textfont_size=12, textposition='outside',width=0.40,hovertemplate=\"<br>\".join([\n",
    "        \"Risk: %{x}\",\n",
    "        \"Risk Percentage: %{y}\"\n",
    "    ]))\n",
    "fig.show()"
   ]
  },
  {
   "cell_type": "markdown",
   "metadata": {},
   "source": [
    "### Observations and Inference from the high level analysis\n",
    "Plotting and comparing the three risks calculating the high risk percentage values across all years and locations, we observe that-\n",
    "1. The risk pertaining to unhealthy sexual behaviour is the greatest (32.1%) followed by alcohol/drug use (18.3%) and then by tobacco usage (16%). \n",
    "\n",
    "2. The average higher risk percentage across all the risk behaviours is around 22%.\n",
    "\n",
    "Inference:\n",
    "From the plot it is evident that unhealthly sexual behaviour is the greatest threat to the youth. Many young people engage in sexual risk behaviors and experiences that can result in unintended health outcomes. This could be due to various factors. We think some of the factors contributing to unhealthly sexual behaviour include inconsistent condom use, depression, lack of accessibility to proper healthcare resources, lack of social support, recent incarceration, lack of active testing for HIV and other sexual diseases, residing with a partner, and exposure to intimate partner violence and childhood sexual abuse. \n",
    "\n",
    "#### Areas of focus\n",
    "\n",
    "1. Prepare students how to use protective measures to prevent STIs.\n",
    "2. Create awareness of symptoms of STI/STDs.\n",
    "3. Help students seek medical care for STI symptoms. \n",
    "4. Make treatment accessible and affordable.\n",
    "\n",
    "School health programs can help young people by increasing awareness about attitudes and behaviors that support their health and well-being—including behaviors that can reduce their risk for HIV and other STDs. Disease control and prevention services looking for catering to the various risk should focus on catering to risk factors related to unhealthy sexual behaviours first as this is the biggest threat to the youth. \n",
    "\n"
   ]
  },
  {
   "cell_type": "markdown",
   "metadata": {},
   "source": [
    "### How does the risky behavior among youth in different grades change over the years? Is there any significant pattern in risky behavior over the years for high school girls and boys?"
   ]
  },
  {
   "cell_type": "markdown",
   "metadata": {},
   "source": [
    "To answer the above question first we need to define what we can consider as high risk behavior. 'Greater_Risk_Data_Value' variable in our dataset gives the percentage of students who have answered positively to the greater risk question, if the the value is above 40% (considering this value because we need a value which is above the upper quartile in the observations) we are considering it as high risk behavior for that particular observation. To make our findings more concise we will group our data based on 1.(year, grade) and 2.(year, sex and grade) and find the count of observations we have for that particular group. Then we will filter the groups with 'Greater_Risk_Data_Value' above 40 percent and find that count. Based on the previous two counts calculated we can calculate the percentage of observations we have for high risk(greater than 40% risk value) for the particular group. "
   ]
  },
  {
   "cell_type": "code",
   "execution_count": null,
   "metadata": {},
   "outputs": [],
   "source": [
    "# Creating a dummy variable for observations where Greater_Risk_Data_Value is greater than 40\n",
    "all_data['High_risk_behavior'] =  np.where(all_data['Greater_Risk_Data_Value'] >=40, 1,0)\n",
    "\n",
    "# Finding count of risk behavior observations by grouping data based on year, grade and gender\n",
    "grouped_year_gender_grade = all_data.groupby(['YEAR', 'Sex','Grade']).count()\n",
    "\n",
    "# Finding count of risk behavior data based on year and grade for both genders\n",
    "grouped_year_total_grade = all_data.groupby(['YEAR', 'Grade']).count()\n",
    "\n",
    "# Finding the number of observations where the risk behavior is greater than 40 percent for grouped data on year, grade and gender\n",
    "grouped_high_risk_gender = all_data[all_data['High_risk_behavior'] == 1].groupby(['YEAR', 'Sex', 'Grade']).count()\n",
    "\n",
    "# Finding the number of observations where the risk behavior is greater than 40 percent for grouped data on year, grade for both genders\n",
    "grouped_high_risk_total = all_data[all_data['High_risk_behavior'] == 1].groupby(['YEAR', 'Grade']).count()\n",
    "\n",
    "# Merging the counts we previously found for risk behaviors into a new dataframe\n",
    "new_df_high_risk_gender = pd.merge(grouped_year_gender_grade['Subtopic'], grouped_high_risk_gender['Subtopic'], on=['YEAR', 'Sex', 'Grade'], how=\"left\")\n",
    "new_df_high_risk_total = pd.merge(grouped_year_total_grade['Subtopic'], grouped_high_risk_total['Subtopic'], on=['YEAR', 'Grade'], how=\"left\")\n",
    "\n",
    "# Calculating the percentage of observations where we found high risk behavior greater than 40 percent for both genders\n",
    "new_df_high_risk_gender['High Risk Percentage'] = round((new_df_high_risk_gender['Subtopic_y']/new_df_high_risk_gender['Subtopic_x'] * 100),2)\n",
    "new_df_high_risk_total['High Risk Percentage'] = round((new_df_high_risk_total['Subtopic_y']/new_df_high_risk_total['Subtopic_x'] * 100),2)\n",
    "\n",
    "# Resetting the index and rename the Grades\n",
    "new_df_high_risk_gender.reset_index(inplace = True)\n",
    "new_df_high_risk_total.reset_index(inplace = True)\n",
    "new_df_high_risk_gender = new_df_high_risk_gender.replace({'Grade' : { '9th' : 'Ninth Grade', '10th' : 'Tenth Grade', '11th' : 'Eleventh Grade', '12th':'Twelfth Grade' }})\n",
    "new_df_high_risk_total = new_df_high_risk_total.replace({'Grade' : { '9th' : 'Ninth Grade', '10th' : 'Tenth Grade', '11th' : 'Eleventh Grade', '12th':'Twelfth Grade' }})\n",
    "\n",
    "# Setting the original indexes for both the dataframes after renaming the grade columns\n",
    "new_df_high_risk_gender = new_df_high_risk_gender.set_index(keys=['YEAR','Sex', 'Grade']).sort_index(level = [0,1,2])\n",
    "new_df_high_risk_total = new_df_high_risk_total.set_index(keys=['YEAR','Grade']).sort_index(level = [0,1])\n",
    "\n",
    "new_df_high_risk_gender.rename(columns = {'Subtopic_x':'Total Students Obs.','Subtopic_y': 'Student Obs. with High Risk' }, inplace = True)\n",
    "new_df_high_risk_total.rename(columns = {'Subtopic_x':'Total Students Obs.','Subtopic_y': 'Student Obs. with High Risk' }, inplace = True)"
   ]
  },
  {
   "cell_type": "markdown",
   "metadata": {},
   "source": [
    "Now, we have two dataframes :-  \n",
    "- One, that contains count of observations for a particular year and grade along with the number of observations out of those     we have for high risk(above 40%). We have one more column that will show thae percentage of high risk observations.\n",
    "- Second dataframe will show the same observations but with a further segregation between male and female students.\n",
    "\n",
    "We have taken two of these dataframes so that we can create a visualization can show us a trend of risk behavior for all students, and also a trend of risk behavior individually for male and female high school students."
   ]
  },
  {
   "cell_type": "code",
   "execution_count": null,
   "metadata": {},
   "outputs": [],
   "source": [
    "# Displaying the dataframe showing the counts for observations for high risk and percentage high risk for a particular grade for male and female students \n",
    "new_df_high_risk_gender.head(20)\n",
    "\n",
    "\n"
   ]
  },
  {
   "cell_type": "code",
   "execution_count": null,
   "metadata": {},
   "outputs": [],
   "source": [
    "# Displaying the dataframe showing the counts for observations for high risk and percentage high risk for a particular grade      \n",
    "new_df_high_risk_total.head(20)\n",
    "\n"
   ]
  },
  {
   "cell_type": "markdown",
   "metadata": {},
   "source": [
    "Now, we will create three separate pivot tables that will contain the percentage of high risk observations for all high school students and further segregate it into males and females."
   ]
  },
  {
   "cell_type": "code",
   "execution_count": null,
   "metadata": {},
   "outputs": [],
   "source": [
    "# Creating pivot table for with year and gender in rows and displaying high risk percentage for each of the grades for individual genders\n",
    "pivot_high_risk_gender = new_df_high_risk_gender.pivot_table(index = ['YEAR','Sex'], columns = ['Grade'], values = 'High Risk Percentage')\n",
    "\n",
    "# Creating pivot table for with year in rows and displaying high risk percentage for each of the grades\n",
    "pivot_high_risk_total = new_df_high_risk_total.pivot_table(index = ['YEAR'], columns = ['Grade'], values = 'High Risk Percentage')\n",
    "\n",
    "# Rearranging the grades in the sequence from night to twelfth standard\n",
    "pivot_high_risk_gender = pivot_high_risk_gender[['Ninth Grade','Tenth Grade','Eleventh Grade','Twelfth Grade']]\n",
    "pivot_high_risk_total = pivot_high_risk_total[['Ninth Grade','Tenth Grade','Eleventh Grade','Twelfth Grade']]\n",
    "pd.set_option(\"mode.chained_assignment\", None)\n",
    "\n",
    "# Creating separate pivot table only for male and female students\n",
    "pivot_high_risk_male = pivot_high_risk_gender[pivot_high_risk_gender.index.isin(['Male'], level=1)]\n",
    "pivot_high_risk_female = pivot_high_risk_gender[pivot_high_risk_gender.index.isin(['Female'], level=1)]\n",
    "pivot_high_risk_male = pivot_high_risk_male.reset_index()\n",
    "pivot_high_risk_male = pivot_high_risk_male.drop(columns = 'Sex', axis = 1).set_index('YEAR')\n",
    "pivot_high_risk_female.reset_index(inplace = True)\n",
    "pivot_high_risk_female.drop(columns = 'Sex', axis = 1,inplace = True)\n",
    "pivot_high_risk_female.set_index('YEAR', inplace = True)"
   ]
  },
  {
   "cell_type": "code",
   "execution_count": null,
   "metadata": {},
   "outputs": [],
   "source": [
    "# Displaying pivot for high risk percentage for all high school students in all grades\n",
    "pivot_high_risk_total"
   ]
  },
  {
   "cell_type": "code",
   "execution_count": null,
   "metadata": {},
   "outputs": [],
   "source": [
    "# Displaying pivot showing high risk percentage for male high school students for all grades\n",
    "pivot_high_risk_male"
   ]
  },
  {
   "cell_type": "code",
   "execution_count": null,
   "metadata": {},
   "outputs": [],
   "source": [
    "# Displaying pivot showing high risk percentage for female high school students for all grades\n",
    "pivot_high_risk_female"
   ]
  },
  {
   "cell_type": "markdown",
   "metadata": {},
   "source": [
    "### Creating a visualization to show the trend of high risk behavior for high school students"
   ]
  },
  {
   "cell_type": "markdown",
   "metadata": {},
   "source": [
    "Utilizing the pivot tables we previously created we can create a line chart that will show us the trend of high risk behavior across the years for all grades. Further, since we have created separate pivots for male and female students we can create a total of three line charts showing trend for male, female and all high school students."
   ]
  },
  {
   "cell_type": "code",
   "execution_count": null,
   "metadata": {},
   "outputs": [],
   "source": [
    "# Creating a line graph to see trend for male students\n",
    "line_graph_male = px.line(pivot_high_risk_male, x=pivot_high_risk_male.index, y=['Ninth Grade', 'Tenth Grade', 'Eleventh Grade', 'Twelfth Grade'], title=\"Youth Risk Behaviour\")\n",
    "\n",
    "# Creating a line graph to see trend for female students\n",
    "line_graph_female = px.line(pivot_high_risk_female, x=pivot_high_risk_female.index, y=['Ninth Grade', 'Tenth Grade', 'Eleventh Grade', 'Twelfth Grade'], title=\"Youth Risk Behaviour\")\n",
    "\n",
    "# Creating a line graph to see trend for all students\n",
    "line_graph_all_students = px.line(pivot_high_risk_total, x=pivot_high_risk_total.index, y=['Ninth Grade', 'Tenth Grade', 'Eleventh Grade', 'Twelfth Grade'], title=\"Youth Risk Behaviour\")\n",
    "\n",
    "# Creating the line graph for all students\n",
    "main_line_graph = px.line(pivot_high_risk_total, x=pivot_high_risk_total.index, y=['Ninth Grade', 'Tenth Grade', 'Eleventh Grade', 'Twelfth Grade'], title=\"Youth Risk Behaviour\")\n",
    "\n",
    "# Creating dropdownn buttons to see individual line graphs for students (all students, male students, female students)\n",
    "updatemenus = [\n",
    "{'buttons': [\n",
    "            {\n",
    "            'method': 'restyle',\n",
    "            'label': 'All High School Students',\n",
    "            'args': [{'y': [data.y for data in line_graph_all_students.data]}]\n",
    "            },\n",
    "            {\n",
    "            'method': 'restyle',\n",
    "            'label': 'Male High School Students',\n",
    "            'args': [{'y': [data.y for data in line_graph_male.data]}]\n",
    "            },\n",
    "            {\n",
    "            'method': 'restyle',\n",
    "            'label': 'Female High School Students',\n",
    "            'args': [{'y': [data.y for data in line_graph_female.data]}]\n",
    "            }\n",
    "            ],\n",
    "'direction': 'down',\n",
    "'showactive': True,\n",
    "}\n",
    "]\n",
    "\n",
    "# Upadating the layout for the line graph\n",
    "main_line_graph = main_line_graph.update_layout(\n",
    "            title_text='Change in high risk behavior among youth over the last two decades',\n",
    "            title_x=0.5,\n",
    "            xaxis_showgrid=True,\n",
    "            yaxis_showgrid=True,\n",
    "            hoverlabel=dict(font_size=15, bgcolor='rgb(0,0,139)',\n",
    "            bordercolor= 'Beige'),\n",
    "            yaxis_title = 'High Risk Percentage', \n",
    "            xaxis_title = 'Year',\n",
    "            legend=dict(title='Grade',\n",
    "                             x=1,\n",
    "                             y=1,\n",
    "                        traceorder='normal',\n",
    "                        bgcolor='lightblue',\n",
    "                        xanchor = 'auto'),\n",
    "            updatemenus=updatemenus\n",
    "            )\n",
    "\n",
    "\n",
    "# Displaying the created line graph\n",
    "main_line_graph.show()"
   ]
  },
  {
   "cell_type": "markdown",
   "metadata": {},
   "source": [
    "Overall, data shows that the risky behvior among youth is decreasing over the years. The pattern is similar for both boys and girls. However, boys have higher risky behvaior value than girls in all grades. We can also see that youth in 12th grade are most likely to be involved in risky behavior followed by 11th, 10th and 9th.\n",
    "\n",
    "As seen in the line plot there is significant drop in Risky Behvaior from 1997 to 2017. One possible theory for the decrease in trend could be increasing awareness among youth regarding different risky behavior\n",
    "and change in parent child relationship. Parents lately have been monitoring activities of their children more closely. Also youth in early 2000s might have started taking part in extra curricular activties like trying new sports, learning new skills, and engaging in confidence-building activities. Studies conducted by few research professors as found [here](https://www.ncbi.nlm.nih.gov/pmc/articles/PMC6874743/)  they have attributed decline in risky behavior to effective public policies (such as anti-smoking programs), closer parent-child relationships, and the social consequences of electronic media use.\n",
    "One possible theory couble that a rise in electronic media use led to a decline in unstructured time with friends, which led in turn to lower risk behavior.\n",
    "\n",
    "How can government or agencies have already used such data to reduce Youth Risk Behavior?\n",
    "\n",
    "As cited [here](https://www.cdc.gov/mmwr/preview/mmwrhtml/ss5704a1.htm) State and local agencies and nongovernmental organizations use YRBS data to set school health and health promotion program goals, support modification of school health curricular or other programs, support new legislation and policies that promote health, and seek funding for new initiatives. For example, Hillsborough County, Florida, used YRBS data to enhance health education, physical education, and health science education programs and to create a guide for high school science teachers to use when discussing specific topics related to HIV, STDs, and unintended pregnancies. In Michigan, YRBS data are used to plan and advocate for coordinated school health programs and other health-related initiatives in their state. The San Francisco Unified School District (SFUSD) developed the SFUSD Family Guide, which combines its YRBS data in an easy-to-read form with information on related school health programs, national research, and strategies for promoting health at home."
   ]
  },
  {
   "cell_type": "code",
   "execution_count": null,
   "metadata": {},
   "outputs": [],
   "source": []
  },
  {
   "cell_type": "code",
   "execution_count": null,
   "metadata": {},
   "outputs": [],
   "source": []
  },
  {
   "cell_type": "code",
   "execution_count": null,
   "metadata": {},
   "outputs": [],
   "source": []
  }
 ],
 "metadata": {
  "colab": {
   "collapsed_sections": [],
   "provenance": []
  },
  "kernelspec": {
   "display_name": "Python 3 (ipykernel)",
   "language": "python",
   "name": "python3"
  },
  "language_info": {
   "codemirror_mode": {
    "name": "ipython",
    "version": 3
   },
   "file_extension": ".py",
   "mimetype": "text/x-python",
   "name": "python",
   "nbconvert_exporter": "python",
   "pygments_lexer": "ipython3",
   "version": "3.9.13"
  }
 },
 "nbformat": 4,
 "nbformat_minor": 4
}
